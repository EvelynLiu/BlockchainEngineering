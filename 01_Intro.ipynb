{
 "cells": [
  {
   "cell_type": "markdown",
   "metadata": {
    "slideshow": {
     "slide_type": "slide"
    }
   },
   "source": [
    "#  Introduction\n",
    "\n",
    "\n",
    "Each blockchain works in a peer-to-peer environment. P2P environment is a network where peers are connected to each other and exchange information and run applications on top of it.\n",
    "\n",
    "The goal of this notebook is to explain the building blocks for any blockchain system. \n",
    "- We will build a system block by block.\n",
    "- Distributed systems are hard, there are many unpredictable errors: race conditions, nasty bugs, deadlocks.\n",
    "- We will simplify the world to get to juiciest parts without leaving out the essentials.  \n",
    "\n",
    "\n",
    "We will simulate the p2p enviorment locally to get the idea of how such system work and get the design decision that devloper make when designing such system.\n",
    "\n",
    "To show different tradeoffs and why developers and researcher choose certain designs we need a way to simulate such environment. Here we will simulate network and message exchange with a [SimPy](simpy.readthedocs.io/en/latest/).\n",
    "\n",
    "For the simplicity of use we implement a P2P network simulation: `p2psimpy`. \n",
    "\n",
    "# BaseSimulation\n",
    "\n",
    "The simulation starts with a `BaseSimulation` class. This class represents the network of peers with their physical representations in the world, such as `location`, `bandwidth`. \n",
    "\n",
    "`BaseSimulation` requires 3 main parameters in the constructor: \n",
    " - *Locations* - generator class for the locations. \n",
    " - *Topology* - networkx graph with attribute `type`, or a dictionary `peer_id -> {'type': peer_type }` \n",
    " - *Type map with services* - map `type -> PeerType object ` \n",
    "\n",
    "Let's go one by one. \n",
    "\n",
    "## Locations \n",
    "\n",
    "Simulator works in a space with different locations to simulate network latency. You have to define your own locations and latency between them. \n",
    "\n",
    "Locations are defined with as a `Config` class. \n",
    "This class can be used as generators of parameters, saved and loaded as yaml file. Parameters can be constant, or probabilistic(with a probability distribution).\n"
   ]
  },
  {
   "cell_type": "markdown",
   "metadata": {},
   "source": [
    "Location configuration should contain at least two fields: `locations` and `latencies`. \n",
    "- `locations` is an array or a tuple with names of locations.\n",
    "- `latencies` is a dictionary (matrix) with latencies of pairwise connections.\n",
    "\n",
    "Depending on the experiments latencies can be constant, but a more realistic model is a probabilistic distribution.\n",
    "Such distribution is represented with `Dist` class. \n",
    "\n",
    "`Dist` class is a wrap around [scipy.stats](https://docs.scipy.org/doc/scipy/reference/generated/scipy.stats.norm.html#scipy.stats.norm), which has rich collection of distributions.  \n",
    "\n",
    "Finally,  `Config.get()` samples all the parameters from distributions and returns them as a dictionary.  \n",
    "\n",
    "Let's try out:"
   ]
  },
  {
   "cell_type": "code",
   "execution_count": 1,
   "metadata": {
    "ExecuteTime": {
     "end_time": "2020-03-16T17:02:53.830508Z",
     "start_time": "2020-03-16T17:02:53.271376Z"
    }
   },
   "outputs": [],
   "source": [
    "from p2psimpy.config import *\n",
    "\n",
    "class ConstLocations(Config):\n",
    "    locations = ['LocA', 'LocB']\n",
    "    latencies = {\n",
    "        'LocA': {'LocB': 10, 'LocA': 2},\n",
    "        'LocB': {'LocB': 1}\n",
    "    }    \n",
    "\n",
    "class DistLocations(Config):\n",
    "    locations = ['LocA', 'LocB']\n",
    "    latencies = {\n",
    "        'LocB': {'LocB': Dist('gamma', (1, 1, 1))},\n",
    "        'LocA': {'LocB': Dist('norm', (12, 2)), 'LocA': Dist('norm', (2, 0.5))},\n",
    "    }    \n",
    "    "
   ]
  },
  {
   "cell_type": "code",
   "execution_count": 2,
   "metadata": {
    "ExecuteTime": {
     "end_time": "2020-03-16T17:02:55.284705Z",
     "start_time": "2020-03-16T17:02:55.266118Z"
    }
   },
   "outputs": [
    {
     "data": {
      "text/plain": [
       "{'latencies': {'LocA': {'LocB': 10, 'LocA': 2}, 'LocB': {'LocB': 1}},\n",
       " 'locations': ['LocA', 'LocB']}"
      ]
     },
     "execution_count": 2,
     "metadata": {},
     "output_type": "execute_result"
    }
   ],
   "source": [
    "ConstLocations.get()"
   ]
  },
  {
   "cell_type": "code",
   "execution_count": 3,
   "metadata": {
    "ExecuteTime": {
     "end_time": "2020-03-16T17:02:55.950456Z",
     "start_time": "2020-03-16T17:02:55.941368Z"
    }
   },
   "outputs": [
    {
     "data": {
      "text/plain": [
       "{'latencies': {'LocB': {'LocB': 1.0359081925315285},\n",
       "  'LocA': {'LocB': 13.121250721732467, 'LocA': 1.535848054229478}},\n",
       " 'locations': ['LocA', 'LocB']}"
      ]
     },
     "execution_count": 3,
     "metadata": {},
     "output_type": "execute_result"
    }
   ],
   "source": [
    "DistLocations.get()"
   ]
  },
  {
   "cell_type": "markdown",
   "metadata": {},
   "source": [
    "Every time you call `Config.get()` it will return new sample"
   ]
  },
  {
   "cell_type": "code",
   "execution_count": 4,
   "metadata": {
    "ExecuteTime": {
     "end_time": "2020-03-16T17:02:58.162455Z",
     "start_time": "2020-03-16T17:02:58.151777Z"
    }
   },
   "outputs": [
    {
     "data": {
      "text/plain": [
       "{'latencies': {'LocB': {'LocB': 1.3541387728779295},\n",
       "  'LocA': {'LocB': 11.085785333651884, 'LocA': 2.5023088242924105}},\n",
       " 'locations': ['LocA', 'LocB']}"
      ]
     },
     "execution_count": 4,
     "metadata": {},
     "output_type": "execute_result"
    }
   ],
   "source": [
    "DistLocations.get()"
   ]
  },
  {
   "cell_type": "raw",
   "metadata": {},
   "source": []
  },
  {
   "cell_type": "markdown",
   "metadata": {},
   "source": [
    "For the simplicity we can represent latencies sample as pandas dataframe. It provides readable table. "
   ]
  },
  {
   "cell_type": "code",
   "execution_count": 5,
   "metadata": {
    "ExecuteTime": {
     "end_time": "2020-03-16T17:03:01.013549Z",
     "start_time": "2020-03-16T17:03:00.637706Z"
    }
   },
   "outputs": [
    {
     "data": {
      "text/html": [
       "<div>\n",
       "<style scoped>\n",
       "    .dataframe tbody tr th:only-of-type {\n",
       "        vertical-align: middle;\n",
       "    }\n",
       "\n",
       "    .dataframe tbody tr th {\n",
       "        vertical-align: top;\n",
       "    }\n",
       "\n",
       "    .dataframe thead th {\n",
       "        text-align: right;\n",
       "    }\n",
       "</style>\n",
       "<table border=\"1\" class=\"dataframe\">\n",
       "  <thead>\n",
       "    <tr style=\"text-align: right;\">\n",
       "      <th></th>\n",
       "      <th>LocB</th>\n",
       "      <th>LocA</th>\n",
       "    </tr>\n",
       "  </thead>\n",
       "  <tbody>\n",
       "    <tr>\n",
       "      <th>LocB</th>\n",
       "      <td>2.199402</td>\n",
       "      <td>10.974388</td>\n",
       "    </tr>\n",
       "    <tr>\n",
       "      <th>LocA</th>\n",
       "      <td>NaN</td>\n",
       "      <td>1.868041</td>\n",
       "    </tr>\n",
       "  </tbody>\n",
       "</table>\n",
       "</div>"
      ],
      "text/plain": [
       "          LocB       LocA\n",
       "LocB  2.199402  10.974388\n",
       "LocA       NaN   1.868041"
      ]
     },
     "execution_count": 5,
     "metadata": {},
     "output_type": "execute_result"
    }
   ],
   "source": [
    "import pandas as pd \n",
    "\n",
    "lat_sample = pd.DataFrame(DistLocations.get()['latencies'])\n",
    "lat_sample"
   ]
  },
  {
   "cell_type": "markdown",
   "metadata": {
    "ExecuteTime": {
     "end_time": "2020-03-16T16:34:34.176798Z",
     "start_time": "2020-03-16T16:34:34.165723Z"
    }
   },
   "source": [
    "*Notice that table has **NaN** values. They will be automatically filled with symmetric value if not specified.*\n",
    "\n",
    "We can transform the table to fill them up symmetrically. "
   ]
  },
  {
   "cell_type": "code",
   "execution_count": 6,
   "metadata": {
    "ExecuteTime": {
     "end_time": "2020-03-16T17:03:03.301164Z",
     "start_time": "2020-03-16T17:03:03.270037Z"
    }
   },
   "outputs": [
    {
     "data": {
      "text/html": [
       "<div>\n",
       "<style scoped>\n",
       "    .dataframe tbody tr th:only-of-type {\n",
       "        vertical-align: middle;\n",
       "    }\n",
       "\n",
       "    .dataframe tbody tr th {\n",
       "        vertical-align: top;\n",
       "    }\n",
       "\n",
       "    .dataframe thead th {\n",
       "        text-align: right;\n",
       "    }\n",
       "</style>\n",
       "<table border=\"1\" class=\"dataframe\">\n",
       "  <thead>\n",
       "    <tr style=\"text-align: right;\">\n",
       "      <th></th>\n",
       "      <th>LocB</th>\n",
       "      <th>LocA</th>\n",
       "    </tr>\n",
       "  </thead>\n",
       "  <tbody>\n",
       "    <tr>\n",
       "      <th>LocB</th>\n",
       "      <td>2.199402</td>\n",
       "      <td>10.974388</td>\n",
       "    </tr>\n",
       "    <tr>\n",
       "      <th>LocA</th>\n",
       "      <td>10.974388</td>\n",
       "      <td>1.868041</td>\n",
       "    </tr>\n",
       "  </tbody>\n",
       "</table>\n",
       "</div>"
      ],
      "text/plain": [
       "           LocB       LocA\n",
       "LocB   2.199402  10.974388\n",
       "LocA  10.974388   1.868041"
      ]
     },
     "execution_count": 6,
     "metadata": {},
     "output_type": "execute_result"
    }
   ],
   "source": [
    "lat_sample[pd.isnull(lat_sample)] = lat_sample.T[pd.isnull(lat_sample)]\n",
    "lat_sample"
   ]
  },
  {
   "cell_type": "markdown",
   "metadata": {},
   "source": [
    "---------------------\n",
    "Let's visualize the data."
   ]
  },
  {
   "cell_type": "code",
   "execution_count": 43,
   "metadata": {
    "ExecuteTime": {
     "end_time": "2020-03-17T08:45:43.087216Z",
     "start_time": "2020-03-17T08:45:40.205001Z"
    }
   },
   "outputs": [
    {
     "data": {
      "image/png": "[encoded data removed]",
      "text/plain": [
       "<Figure size 576x576 with 4 Axes>"
      ]
     },
     "metadata": {},
     "output_type": "display_data"
    }
   ],
   "source": [
    "# -- Prepare data: \n",
    "#  - Trasfer to dataframe\n",
    "#  - Fill null values with symmetic \n",
    "#  - Traform into list of tuples: 'from', 'to', 'value' \n",
    "import matplotlib.pyplot as plt\n",
    "import seaborn as sns\n",
    "sns.set(style='darkgrid')\n",
    "\n",
    "def prepare(x):\n",
    "    x = pd.DataFrame(x)\n",
    "    x[pd.isnull(x)] = x.T[pd.isnull(x)]\n",
    "    return x.stack().reset_index()\\\n",
    "                    .rename(columns={'level_0':'from', 'level_1':'to', 0: 'value'})\n",
    "                    \n",
    "# 2. Get 100 samples from the configuration with latencies\n",
    "df = pd.concat(prepare(DistLocations.get()['latencies']) for _ in range(100))\n",
    "\n",
    "# Visualize in a grid of histograms\n",
    "g = sns.FacetGrid(d1, col='to', row='from', height=4, aspect=1)\n",
    "g = g.map(sns.distplot, 'value')\n"
   ]
  },
  {
   "cell_type": "markdown",
   "metadata": {},
   "source": [
    "## Peers and Topologies \n",
    "\n",
    "Simulation can work in two modes: \n",
    "\n",
    "1. **NetworkX**. When you pass a network topology: peers with all connections and peer types\n",
    "\n",
    "2. **Emergent**. Peer communicate with each other through bootstrap peers and network topology emerges itself, as peers exchange data with each other. Usually peer-to-peer network follow into this category. You can read more [here](https://en.wikipedia.org/wiki/Bootstrapping_node), or  read how [Bitcoin network](https://en.bitcoin.it/wiki/Network) is formed.  \n",
    "\n",
    "\n",
    "\n",
    "\n",
    "### Networkx topology\n",
    "\n",
    "Let's first see how we can form a network topology.\n"
   ]
  },
  {
   "cell_type": "code",
   "execution_count": 47,
   "metadata": {
    "ExecuteTime": {
     "end_time": "2020-03-17T08:46:35.686945Z",
     "start_time": "2020-03-17T08:46:35.321005Z"
    }
   },
   "outputs": [
    {
     "data": {
      "image/png": "[encoded data removed]",
      "text/plain": [
       "<Figure size 432x288 with 1 Axes>"
      ]
     },
     "metadata": {},
     "output_type": "display_data"
    }
   ],
   "source": [
    "import networkx as nx\n",
    "\n",
    "peer_num = 10\n",
    "# Generate a network topology \n",
    "G = nx.erdos_renyi_graph(10, 0.5)\n",
    "\n",
    "# Assign a peer type to the peers \n",
    "nx.set_node_attributes(G, {k: 'basic' for k in G.nodes()}, 'type')\n",
    "\n",
    "sns.set(style='dark')\n",
    "nx.draw_networkx(G)\n"
   ]
  },
  {
   "cell_type": "markdown",
   "metadata": {},
   "source": [
    "NetworkX is a library that has rich semantics and collection of graph generators. You can read more [here](https://networkx.github.io/documentation/stable/reference/generators.html).  \n",
    "\n",
    "You can choose any graph, generate them and put `type` as node attributes. `type` is a name for the peer type. We explain later how it will be used in a simulation.  \n",
    "\n",
    "\n",
    "\n",
    "### Emergent topology\n",
    "\n",
    "What if topology is not known?\n",
    "\n",
    "In this case we can model the peer discovery mechanism through *bootstrapping* peers. General bootstrap process is following: \n",
    "1. Bootstrap nodes are create in the system first. The goal of bootstrap nodes is to maintain list of peers and connect them with each other upon request.\n",
    "2. New peer joins the network. Peer sends a `Hello` message to one of bootstrap nodes. Bootstrap nodes are usually known in advance. Bootstrap node responds to the peer with a random sample of known online peers. \n",
    "3. The peer connect with other peers. \n",
    "\n",
    "\n",
    "This is all abstracted in simulation, but you can specify your own bootstrap logic later. \n",
    "\n",
    "\n",
    "To run default bootstrap you should pass as a parameter `topology` a dictionary with type `peer_id` -> {`type`: type_name}\n"
   ]
  },
  {
   "cell_type": "markdown",
   "metadata": {},
   "source": [
    "## Peer types and services\n",
    "\n",
    "Simulation also requires `peer_types` that is a map that describes peers in the system and the running scenario. \n",
    "\n",
    "Below we give an example of a simple map with one type: `basic`. Peer is described with a `PeerType(PeerConfig, services)`. `PeerConfig` describes with a configuration physical representation of a peer in the system. \n",
    "Each peer at minimum must have bandwidth and a location.  \n",
    "\n",
    "Finally, peers must have services to run in the system. They work as a running scenario. \n",
    "There some implemented standard services that you can user in your simulation. But you will also implement your own later!\n",
    "\n",
    "Each peer should have at least a connection service to build a network of peers and react on introduction messages. \n",
    "By default there two connection services: `BaseConnectionManager` and `P2PConnectionManager`. Both support basic connection primitives: connect, disconnect unresponsive peers. The difference is that later one will actively pull new peers to connect at least to `min_peers`, but when the number of connections is higher than `max_peers` it will start to refuse new connections and disconnect slowest peers. \n",
    "\n",
    "Let's see how it looks in code:\n"
   ]
  },
  {
   "cell_type": "code",
   "execution_count": 48,
   "metadata": {
    "ExecuteTime": {
     "end_time": "2020-03-17T12:14:21.135774Z",
     "start_time": "2020-03-17T12:14:21.056057Z"
    }
   },
   "outputs": [],
   "source": [
    "from p2psimpy.config import *\n",
    "from p2psimpy.consts import *\n",
    "    \n",
    "class PeerConfig(Config):\n",
    "    location = Dist('sample', DistLocations.locations)\n",
    "    bandwidth_ul = Dist( 'norm', (50*MBit, 10*MBit))\n",
    "    bandwidth_dl = Dist( 'norm', (50*MBit, 10*MBit))\n",
    "\n",
    "# Let's add ConnectionManager - that will periodically ping neighbours and check if they are online \n",
    "from p2psimpy.services.connection_manager import BaseConnectionManager\n",
    "# For each service you can define own configuration, or use default values.   \n",
    "# Lets use base connection manager - that will periodically ping peer and disconnect unresponsive peers.\n",
    "\n",
    "services = (BaseConnectionManager,)\n",
    "peer_types = {'basic': PeerType(PeerConfig, services)}"
   ]
  },
  {
   "cell_type": "markdown",
   "metadata": {},
   "source": [
    "How to use these configuration. Configs are used to get value. \n",
    "They work as a generator and attribute descriptors.  "
   ]
  },
  {
   "cell_type": "markdown",
   "metadata": {},
   "source": [
    "# Putting all together\n",
    "\n",
    "\n",
    "Let's combine all you learned so far and run a simple simulation. \n",
    "\n",
    "1. Define locations and simulation world parameters.\n",
    "2. Define topology and number of peers with their types.  \n",
    "3. Define what each peer type is with a `PeerConfig` and what it does with services. \n",
    "\n",
    "\n",
    "After we defined all this we can create a simulation object and run it with `.run(time)`.\n",
    "\n",
    "Simulation has it's internal clock and scheduler for all events. The parameter `time` is a time until which the simulation is run. \n",
    "\n",
    "***All the time is milliseconds**!\n",
    "\n",
    "\n",
    "\n"
   ]
  },
  {
   "cell_type": "markdown",
   "metadata": {
    "ExecuteTime": {
     "end_time": "2020-03-11T09:50:33.374122Z",
     "start_time": "2020-03-11T09:50:33.347834Z"
    }
   },
   "source": [
    "## Random given topology \n",
    "\n",
    "1. Given network with peer types and ids \n",
    "2. No network given - emergent P2P topology through bootstrap peers. "
   ]
  },
  {
   "cell_type": "code",
   "execution_count": 1,
   "metadata": {
    "ExecuteTime": {
     "end_time": "2020-03-17T12:36:59.402649Z",
     "start_time": "2020-03-17T12:36:59.359782Z"
    }
   },
   "outputs": [
    {
     "data": {
      "image/png": "[encoded data removed]",
      "text/plain": [
       "<Figure size 432x288 with 1 Axes>"
      ]
     },
     "metadata": {},
     "output_type": "display_data"
    }
   ],
   "source": [
    "from p2psimpy.config import *\n",
    "from p2psimpy.consts import *\n",
    "import networkx as nx\n",
    "\n",
    "class Locations(Config):\n",
    "    locations = ['LocA', 'LocB']\n",
    "    latencies = {\n",
    "        'LocB': {'LocB': Dist('gamma', (1, 1, 1))},\n",
    "        'LocA': {'LocB': Dist('norm', (12, 2)), 'LocA': Dist('norm', (2, 0.5))},\n",
    "    } \n",
    "\n",
    "# Generate network topology \n",
    "G = nx.erdos_renyi_graph(10, 0.5)\n",
    "# Assign a peer type to the peers \n",
    "nx.set_node_attributes(G, {k: 'basic' for k in G.nodes()}, 'type')\n",
    "\n",
    "class PeerConfig(Config):\n",
    "    location = Dist('sample', Locations.locations)\n",
    "    bandwidth_ul = Dist( 'norm', (50*MBit, 10*MBit))\n",
    "    bandwidth_dl = Dist( 'norm', (50*MBit, 10*MBit))\n",
    "\n",
    "# Let's add ConnectionManager - that will periodically ping neighbours and check if they are online \n",
    "from p2psimpy.services.connection_manager import BaseConnectionManager\n",
    "# For each service you can define own configuration, or use default values.   \n",
    "# Lets use base connection manager - that will periodically ping peer and disconnect unresponsive peers.\n",
    "\n",
    "services = (BaseConnectionManager,)\n",
    "peer_types = {'basic': PeerType(PeerConfig, services)}\n",
    "\n",
    "# Display the topology \n",
    "nx.draw_networkx(G)"
   ]
  },
  {
   "cell_type": "code",
   "execution_count": 2,
   "metadata": {
    "ExecuteTime": {
     "end_time": "2020-03-17T12:41:42.680842Z",
     "start_time": "2020-03-17T12:41:42.523014Z"
    }
   },
   "outputs": [],
   "source": [
    "from p2psimpy.simulation import BaseSimulation\n",
    "\n",
    "sim = BaseSimulation(Locations, G, peer_types)\n",
    "\n",
    "# Let's run the simulation for 5 seconds\n",
    "sim.run(5_000)"
   ]
  },
  {
   "cell_type": "markdown",
   "metadata": {
    "ExecuteTime": {
     "end_time": "2020-03-17T12:40:15.632268Z",
     "start_time": "2020-03-17T12:40:15.613568Z"
    }
   },
   "source": [
    "----------------------------\n",
    "\n",
    "What's next? There is no output.\n",
    "\n",
    "The output by default is written to the logs in `\\logs` directory. Let's see what is the output. \n",
    "Each peer writes own log with events happening like received message, connecting to a peer etc. \n",
    "\n",
    "For example:"
   ]
  },
  {
   "cell_type": "code",
   "execution_count": 3,
   "metadata": {},
   "outputs": [
    {
     "name": "stdout",
     "output_type": "stream",
     "text": [
      "Peer_1:basic INFO 0.5642461520769093: Received message <Hello:> from Peer_2:basic\n",
      "Peer_1:basic INFO Connecting to Peer_2:basic\n",
      "Peer_1:basic INFO Connecting to Peer_7:basic\n",
      "Peer_1:basic INFO 1.6675048549334301: Received message <Hello:> from Peer_7:basic\n",
      "Peer_1:basic INFO 2.8302113666605466: Received message <Hello:> from Peer_7:basic\n",
      "Peer_1:basic INFO Connecting to Peer_2:basic\n",
      "Peer_1:basic INFO Connecting to Peer_4:basic\n",
      "Peer_1:basic INFO 5.194451802113656: Received message <Hello:> from Peer_4:basic\n",
      "Peer_1:basic INFO 5.244345235466082: Received message <Hello:> from Peer_2:basic\n",
      "Peer_1:basic INFO 5.408725622485689: Received message <Hello:> from Peer_9:basic\n",
      "Peer_1:basic INFO Connecting to Peer_9:basic\n",
      "Peer_1:basic INFO 10.675733948012986: Received message <Hello:> from Peer_4:basic\n",
      "Peer_1:basic INFO 12.770379593216953: Received message <Hello:> from Peer_2:basic\n",
      "Peer_1:basic INFO 1000.576017793764: Received message <Ping:> from Peer_7:basic\n",
      "Peer_1:basic INFO 1001.2741734062128: Received message <Ping:> from Peer_2:basic\n",
      "Peer_1:basic INFO 1001.3247919476762: Received message <Pong:> from Peer_7:basic\n",
      "Peer_1:basic INFO 1001.4524176163745: Received message <Pong:> from Peer_2:basic\n",
      "Peer_1:basic INFO 1004.4572762463415: Received message <Ping:> from Peer_9:basic\n",
      "Peer_1:basic INFO 1005.9754455465892: Received message <Ping:> from Peer_2:basic\n",
      "Peer_1:basic INFO 1006.5732491717029: Received message <Ping:> from Peer_4:basic\n",
      "Peer_1:basic INFO 1009.8972649367447: Received message <Pong:> from Peer_9:basic\n",
      "Peer_1:basic INFO 1012.3742718508353: Received message <Pong:> from Peer_4:basic\n",
      "Peer_1:basic INFO 1014.4650270099263: Received message <Pong:> from Peer_2:basic\n",
      "Peer_1:basic INFO 2000.6924919144851: Received message <Ping:> from Peer_7:basic\n",
      "Peer_1:basic INFO 2000.7760026862484: Received message <Ping:> from Peer_2:basic\n",
      "Peer_1:basic INFO 2001.6706582491836: Received message <Pong:> from Peer_7:basic\n",
      "Peer_1:basic INFO 2002.0488778608737: Received message <Pong:> from Peer_2:basic\n",
      "Peer_1:basic INFO 2004.6915759932695: Received message <Ping:> from Peer_9:basic\n",
      "Peer_1:basic INFO 2005.3571466609155: Received message <Ping:> from Peer_4:basic\n",
      "Peer_1:basic INFO 2005.8234206898787: Received message <Ping:> from Peer_2:basic\n",
      "Peer_1:basic INFO 2010.1890304590825: Received message <Pong:> from Peer_4:basic\n",
      "Peer_1:basic INFO 2011.5717372731303: Received message <Pong:> from Peer_2:basic\n",
      "Peer_1:basic INFO 2012.3958743954213: Received message <Pong:> from Peer_9:basic\n",
      "Peer_1:basic INFO 3000.6030753914897: Received message <Ping:> from Peer_7:basic\n",
      "Peer_1:basic INFO 3000.966867901417: Received message <Ping:> from Peer_2:basic\n",
      "Peer_1:basic INFO 3002.0429457290247: Received message <Pong:> from Peer_2:basic\n",
      "Peer_1:basic INFO 3003.4324234723376: Received message <Pong:> from Peer_7:basic\n",
      "Peer_1:basic INFO 3003.8827829463444: Received message <Ping:> from Peer_4:basic\n",
      "Peer_1:basic INFO 3004.903043439791: Received message <Ping:> from Peer_2:basic\n",
      "Peer_1:basic INFO 3005.4990373243068: Received message <Ping:> from Peer_9:basic\n",
      "Peer_1:basic INFO 3010.1088652657395: Received message <Pong:> from Peer_4:basic\n",
      "Peer_1:basic INFO 3010.4242582206302: Received message <Pong:> from Peer_9:basic\n",
      "Peer_1:basic INFO 3011.5025828997527: Received message <Pong:> from Peer_2:basic\n",
      "Peer_1:basic INFO 4000.533206228579: Received message <Ping:> from Peer_7:basic\n",
      "Peer_1:basic INFO 4000.9369788298627: Received message <Ping:> from Peer_2:basic\n",
      "Peer_1:basic INFO 4001.1691031635987: Received message <Pong:> from Peer_2:basic\n",
      "Peer_1:basic INFO 4002.842041843051: Received message <Pong:> from Peer_7:basic\n",
      "Peer_1:basic INFO 4003.72833096014: Received message <Ping:> from Peer_2:basic\n",
      "Peer_1:basic INFO 4004.926275937606: Received message <Ping:> from Peer_9:basic\n",
      "Peer_1:basic INFO 4006.169212955045: Received message <Ping:> from Peer_4:basic\n",
      "Peer_1:basic INFO 4010.502484820322: Received message <Pong:> from Peer_9:basic\n",
      "Peer_1:basic INFO 4010.843028487586: Received message <Pong:> from Peer_4:basic\n",
      "Peer_1:basic INFO 4012.915421524362: Received message <Pong:> from Peer_2:basic\n",
      "\n"
     ]
    }
   ],
   "source": [
    "with open('logs/Peer_1:basic.log') as s:\n",
    "    print(s.read())"
   ]
  },
  {
   "cell_type": "markdown",
   "metadata": {},
   "source": [
    "## Emergent topology\n",
    "\n",
    "Now let's try emergent topology, we will use the same configuration, but use bootstrap peer for discovery and building a network.  \n"
   ]
  },
  {
   "cell_type": "code",
   "execution_count": 4,
   "metadata": {
    "ExecuteTime": {
     "end_time": "2020-03-12T15:16:27.055983Z",
     "start_time": "2020-03-12T15:16:26.986708Z"
    }
   },
   "outputs": [],
   "source": [
    "from p2psimpy.services.connection_manager import P2PConnectionManager\n",
    "\n",
    "num_peers = 10\n",
    "\n",
    "topology_specs = {i:{'type': 'basic'} for i in range(1, num_peers+1)}\n",
    "\n",
    "class ConnectionConfig(Config):\n",
    "    min_peers = 4\n",
    "    max_peers = 8\n",
    "\n",
    "peer_types = {'basic': PeerType(PeerConfig, {P2PConnectionManager: ConnectionConfig})}\n"
   ]
  },
  {
   "cell_type": "code",
   "execution_count": 5,
   "metadata": {
    "ExecuteTime": {
     "end_time": "2020-03-12T15:16:27.068788Z",
     "start_time": "2020-03-12T15:16:27.059355Z"
    }
   },
   "outputs": [],
   "source": [
    "sim = BaseSimulation(Locations, topology_specs, peer_types, logger_dir='logs2')\n",
    "\n",
    "# Let's run the simulation for 5 seconds\n",
    "sim.run(5_000)"
   ]
  },
  {
   "cell_type": "code",
   "execution_count": 6,
   "metadata": {
    "ExecuteTime": {
     "end_time": "2020-03-12T15:10:02.460425Z",
     "start_time": "2020-03-12T15:10:02.450412Z"
    }
   },
   "outputs": [
    {
     "data": {
      "image/png": "[encoded data removed]",
      "text/plain": [
       "<Figure size 432x288 with 1 Axes>"
      ]
     },
     "metadata": {},
     "output_type": "display_data"
    }
   ],
   "source": [
    "G1 = sim.get_graph()\n",
    "nx.draw_networkx(G1)"
   ]
  },
  {
   "cell_type": "code",
   "execution_count": 7,
   "metadata": {},
   "outputs": [
    {
     "name": "stdout",
     "output_type": "stream",
     "text": [
      "Peer_1:basic INFO Connecting to Peer_11:bootstrap\n",
      "Peer_1:basic INFO 13.068476026463767: Received message <Hello:> from Peer_11:bootstrap\n",
      "Peer_1:basic INFO 14.639619829680399: Received message <RequestPeers:> from Peer_11:bootstrap\n",
      "Peer_1:basic INFO 510.6906712034973: Received message <PeerList> from Peer_11:bootstrap\n",
      "Peer_1:basic INFO 1001.0155446481016: Received message <Hello:> from Peer_9:basic\n",
      "Peer_1:basic INFO Connecting to Peer_9:basic\n",
      "Peer_1:basic INFO 1002.9837811526241: Received message <PeerList> from Peer_9:basic\n",
      "Peer_1:basic INFO 1005.1131840040766: Received message <RequestPeers:> from Peer_11:bootstrap\n",
      "Peer_1:basic INFO Connecting to Peer_2:basic\n",
      "Peer_1:basic INFO 1011.0534445456536: Received message <PeerList> from Peer_11:bootstrap\n",
      "Peer_1:basic INFO 1011.2118146573121: Received message <Hello:> from Peer_2:basic\n",
      "Peer_1:basic INFO 1012.4833997047816: Received message <RequestPeers:> from Peer_2:basic\n",
      "Peer_1:basic INFO 1500.9060844021499: Received message <RequestPeers:> from Peer_9:basic\n",
      "Peer_1:basic INFO 1502.4161183817168: Received message <PeerList> from Peer_9:basic\n",
      "Peer_1:basic INFO 1506.9878302720017: Received message <Hello:> from Peer_8:basic\n",
      "Peer_1:basic INFO Connecting to Peer_8:basic\n",
      "Peer_1:basic INFO 1511.5859825152977: Received message <PeerList> from Peer_2:basic\n",
      "Peer_1:basic INFO 1514.608497462654: Received message <PeerList> from Peer_11:bootstrap\n",
      "Peer_1:basic INFO 1517.692164325575: Received message <PeerList> from Peer_8:basic\n",
      "Peer_1:basic INFO 2501.1834571289965: Received message <Ping:> from Peer_9:basic\n",
      "Peer_1:basic INFO 2502.1531974669642: Received message <Pong:> from Peer_9:basic\n",
      "Peer_1:basic INFO 2504.1327241814306: Received message <Ping:> from Peer_2:basic\n",
      "Peer_1:basic INFO 2504.3353198626232: Received message <Ping:> from Peer_8:basic\n",
      "Peer_1:basic INFO 2505.305488769264: Received message <Hello:> from Peer_3:basic\n",
      "Peer_1:basic INFO Connecting to Peer_3:basic\n",
      "Peer_1:basic INFO 2506.220255789725: Received message <RequestPeers:> from Peer_11:bootstrap\n",
      "Peer_1:basic INFO 2506.4143949452136: Received message <Ping:> from Peer_11:bootstrap\n",
      "Peer_1:basic INFO 2511.3773168553275: Received message <Pong:> from Peer_8:basic\n",
      "Peer_1:basic INFO 2512.155079766583: Received message <Pong:> from Peer_11:bootstrap\n",
      "Peer_1:basic INFO 2514.3050815796746: Received message <Pong:> from Peer_2:basic\n",
      "Peer_1:basic INFO 2515.9068774198468: Received message <PeerList> from Peer_3:basic\n",
      "Peer_1:basic INFO 3501.3565221634494: Received message <Ping:> from Peer_9:basic\n",
      "Peer_1:basic INFO 3501.769197870563: Received message <Pong:> from Peer_9:basic\n",
      "Peer_1:basic INFO 3505.901054723864: Received message <Ping:> from Peer_3:basic\n",
      "Peer_1:basic INFO 3506.2883197614633: Received message <Ping:> from Peer_11:bootstrap\n",
      "Peer_1:basic INFO 3507.0251258372205: Received message <Ping:> from Peer_2:basic\n",
      "Peer_1:basic INFO 3507.087276927674: Received message <Ping:> from Peer_8:basic\n",
      "Peer_1:basic INFO 3510.560637745563: Received message <Pong:> from Peer_3:basic\n",
      "Peer_1:basic INFO 3511.725115964656: Received message <Pong:> from Peer_8:basic\n",
      "Peer_1:basic INFO 3512.1896455527485: Received message <Pong:> from Peer_2:basic\n",
      "Peer_1:basic INFO 3515.03676554631: Received message <Pong:> from Peer_11:bootstrap\n",
      "Peer_1:basic INFO 4006.728868250879: Received message <RequestPeers:> from Peer_11:bootstrap\n",
      "Peer_1:basic INFO 4500.991845438711: Received message <Ping:> from Peer_9:basic\n",
      "Peer_1:basic INFO 4501.799030752164: Received message <Pong:> from Peer_9:basic\n",
      "Peer_1:basic INFO 4505.318941739256: Received message <Ping:> from Peer_2:basic\n",
      "Peer_1:basic INFO 4505.8499837163145: Received message <Ping:> from Peer_8:basic\n",
      "Peer_1:basic INFO 4508.328019525814: Received message <Ping:> from Peer_3:basic\n",
      "Peer_1:basic INFO 4510.773079722933: Received message <Pong:> from Peer_3:basic\n",
      "Peer_1:basic INFO 4511.044514015669: Received message <Pong:> from Peer_2:basic\n",
      "Peer_1:basic INFO 4513.153102060254: Received message <Pong:> from Peer_8:basic\n",
      "\n"
     ]
    }
   ],
   "source": [
    "with open('logs2/Peer_1:basic.log') as s:\n",
    "    print(s.read())"
   ]
  },
  {
   "cell_type": "markdown",
   "metadata": {},
   "source": [
    "------------------\n",
    "\n",
    "Now you get how to work a simulation, in the next notebook we will take a look into services and implement our own.  \n"
   ]
  },
  {
   "cell_type": "markdown",
   "metadata": {},
   "source": []
  }
 ],
 "metadata": {
  "hide_input": false,
  "kernelspec": {
   "display_name": "Python Conda",
   "language": "python",
   "name": "python3"
  },
  "pycharm": {
   "stem_cell": {
    "cell_type": "raw",
    "metadata": {
     "collapsed": false
    },
    "source": []
   }
  },
  "toc": {
   "base_numbering": 1,
   "nav_menu": {},
   "number_sections": true,
   "sideBar": true,
   "skip_h1_title": false,
   "title_cell": "Table of Contents",
   "title_sidebar": "Contents",
   "toc_cell": false,
   "toc_position": {
    "height": "524px",
    "left": "441px",
    "top": "355px",
    "width": "256px"
   },
   "toc_section_display": true,
   "toc_window_display": false
  },
  "varInspector": {
   "cols": {
    "lenName": 16,
    "lenType": 16,
    "lenVar": 40
   },
   "kernels_config": {
    "python": {
     "delete_cmd_postfix": "",
     "delete_cmd_prefix": "del ",
     "library": "var_list.py",
     "varRefreshCmd": "print(var_dic_list())"
    },
    "r": {
     "delete_cmd_postfix": ") ",
     "delete_cmd_prefix": "rm(",
     "library": "var_list.r",
     "varRefreshCmd": "cat(var_dic_list()) "
    }
   },
   "types_to_exclude": [
    "module",
    "function",
    "builtin_function_or_method",
    "instance",
    "_Feature"
   ],
   "window_display": false
  }
 },
 "nbformat": 4,
 "nbformat_minor": 4
}
