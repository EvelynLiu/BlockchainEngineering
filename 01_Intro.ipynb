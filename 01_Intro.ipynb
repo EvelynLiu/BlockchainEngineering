{
 "cells": [
  {
   "cell_type": "markdown",
   "metadata": {
    "slideshow": {
     "slide_type": "slide"
    }
   },
   "source": [
    "#  Introduction\n",
    "\n",
    "\n",
    "Each blockchain works in a peer-to-peer environment. P2P environment is a network where peers are connected to each other and exchange information and run applications on top of it.\n",
    "\n",
    "The goal of this notebook is to explain the building blocks for any blockchain system. \n",
    "- We will build a system block by block.\n",
    "- Distributed systems are hard, there are many unpredictable errors: race conditions, nasty bugs, deadlocks.\n",
    "- We will simplify the world to get to juiciest parts without leaving out the essentials.  \n",
    "\n",
    "\n",
    "We will simulate the p2p enviorment locally to get the idea of how such system work and get the design decision that devloper make when designing such system.\n",
    "\n",
    "To show different tradeoffs and why developers and researcher choose certain designs we need a way to simulate such environment. Here we will simulate network and message exchange with a [SimPy](simpy.readthedocs.io/en/latest/).\n",
    "\n",
    "For the simplicity of use we implement a P2P network simulation: `p2psimpy`. \n",
    "\n",
    "# BaseSimulation\n",
    "\n",
    "The simulation starts with a `BaseSimulation` class. This class represents the network of peers with their physical representations in the world, such as `location`, `bandwidth`. \n",
    "\n",
    "`BaseSimulation` requires 3 main parameters in the constructor: \n",
    " - *Locations* - generator class for the locations. \n",
    " - *Topology* - networkx graph with attribute `type`, or a dictionary `peer_id -> {'type': peer_type }` \n",
    " - *Type map with services* - map `type -> PeerType object ` \n",
    "\n",
    "Let's go one by one. \n",
    "\n",
    "## Locations \n",
    "\n",
    "Simulator works in a space with different locations to simulate network latency. You have to define your own locations and latency between them. \n",
    "\n",
    "Locations are defined with as a `Config` class. \n",
    "This class can be used as generators of parameters, saved and loaded as yaml file. Parameters can be constant, or probabilistic(with a probability distribution).\n"
   ]
  },
  {
   "cell_type": "markdown",
   "metadata": {},
   "source": [
    "Location configuration should contain at least two fields: `locations` and `latencies`. \n",
    "- `locations` is an array or a tuple with names of locations.\n",
    "- `latencies` is a dictionary (matrix) with latencies of pairwise connections.\n",
    "\n",
    "Depending on the experiments latencies can be constant, but a more realistic model is a probabilistic distribution.\n",
    "Such distribution is represented with `Dist` class. \n",
    "\n",
    "`Dist` class is a wrap around [scipy.stats](https://docs.scipy.org/doc/scipy/reference/generated/scipy.stats.norm.html#scipy.stats.norm), which has rich collection of distributions.  \n",
    "\n",
    "Finally,  `Config.get()` samples all the parameters from distributions and returns them as a dictionary.  \n",
    "\n",
    "Let's try out:"
   ]
  },
  {
   "cell_type": "code",
   "execution_count": 1,
   "metadata": {
    "ExecuteTime": {
     "end_time": "2020-03-27T09:17:35.256784Z",
     "start_time": "2020-03-27T09:17:34.199645Z"
    }
   },
   "outputs": [],
   "source": [
    "from p2psimpy.config import *\n",
    "\n",
    "class ConstLocations(Config):\n",
    "    locations = ['LocA', 'LocB']\n",
    "    latencies = {\n",
    "        'LocA': {'LocB': 10, 'LocA': 2},\n",
    "        'LocB': {'LocB': 1}\n",
    "    }    \n",
    "\n",
    "class DistLocations(Config):\n",
    "    locations = ['LocA', 'LocB']\n",
    "    latencies = {\n",
    "        'LocB': {'LocB': Dist('gamma', (1, 1, 1))},\n",
    "        'LocA': {'LocB': Dist('norm', (12, 2)), 'LocA': Dist('norm', (2, 0.5))},\n",
    "    }    \n",
    "    "
   ]
  },
  {
   "cell_type": "code",
   "execution_count": 2,
   "metadata": {
    "ExecuteTime": {
     "end_time": "2020-03-27T09:17:35.274429Z",
     "start_time": "2020-03-27T09:17:35.259195Z"
    }
   },
   "outputs": [
    {
     "data": {
      "text/plain": [
       "{'latencies': {'LocA': {'LocB': 10, 'LocA': 2}, 'LocB': {'LocB': 1}},\n",
       " 'locations': ['LocA', 'LocB']}"
      ]
     },
     "execution_count": 2,
     "metadata": {},
     "output_type": "execute_result"
    }
   ],
   "source": [
    "ConstLocations.get()"
   ]
  },
  {
   "cell_type": "code",
   "execution_count": 3,
   "metadata": {
    "ExecuteTime": {
     "end_time": "2020-03-27T09:17:35.287131Z",
     "start_time": "2020-03-27T09:17:35.278297Z"
    }
   },
   "outputs": [
    {
     "data": {
      "text/plain": [
       "{'latencies': {'LocB': {'LocB': 1.2259781902514668},\n",
       "  'LocA': {'LocB': 13.657338194122637, 'LocA': 1.8623173012410064}},\n",
       " 'locations': ['LocA', 'LocB']}"
      ]
     },
     "execution_count": 3,
     "metadata": {},
     "output_type": "execute_result"
    }
   ],
   "source": [
    "DistLocations.get()"
   ]
  },
  {
   "cell_type": "markdown",
   "metadata": {},
   "source": [
    "Every time you call `Config.get()` it will return new sample"
   ]
  },
  {
   "cell_type": "code",
   "execution_count": 4,
   "metadata": {
    "ExecuteTime": {
     "end_time": "2020-03-27T09:17:35.304760Z",
     "start_time": "2020-03-27T09:17:35.294903Z"
    }
   },
   "outputs": [
    {
     "data": {
      "text/plain": [
       "{'latencies': {'LocB': {'LocB': 1.635489425042326},\n",
       "  'LocA': {'LocB': 11.952584808886167, 'LocA': 2.15462026853407}},\n",
       " 'locations': ['LocA', 'LocB']}"
      ]
     },
     "execution_count": 4,
     "metadata": {},
     "output_type": "execute_result"
    }
   ],
   "source": [
    "DistLocations.get()"
   ]
  },
  {
   "cell_type": "raw",
   "metadata": {},
   "source": []
  },
  {
   "cell_type": "markdown",
   "metadata": {},
   "source": [
    "For the simplicity we can represent latencies sample as pandas dataframe. It provides readable table. "
   ]
  },
  {
   "cell_type": "code",
   "execution_count": 5,
   "metadata": {
    "ExecuteTime": {
     "end_time": "2020-03-27T09:17:35.896505Z",
     "start_time": "2020-03-27T09:17:35.307036Z"
    }
   },
   "outputs": [
    {
     "data": {
      "text/html": [
       "<div>\n",
       "<style scoped>\n",
       "    .dataframe tbody tr th:only-of-type {\n",
       "        vertical-align: middle;\n",
       "    }\n",
       "\n",
       "    .dataframe tbody tr th {\n",
       "        vertical-align: top;\n",
       "    }\n",
       "\n",
       "    .dataframe thead th {\n",
       "        text-align: right;\n",
       "    }\n",
       "</style>\n",
       "<table border=\"1\" class=\"dataframe\">\n",
       "  <thead>\n",
       "    <tr style=\"text-align: right;\">\n",
       "      <th></th>\n",
       "      <th>LocB</th>\n",
       "      <th>LocA</th>\n",
       "    </tr>\n",
       "  </thead>\n",
       "  <tbody>\n",
       "    <tr>\n",
       "      <th>LocB</th>\n",
       "      <td>1.583029</td>\n",
       "      <td>9.673448</td>\n",
       "    </tr>\n",
       "    <tr>\n",
       "      <th>LocA</th>\n",
       "      <td>NaN</td>\n",
       "      <td>2.240081</td>\n",
       "    </tr>\n",
       "  </tbody>\n",
       "</table>\n",
       "</div>"
      ],
      "text/plain": [
       "          LocB      LocA\n",
       "LocB  1.583029  9.673448\n",
       "LocA       NaN  2.240081"
      ]
     },
     "execution_count": 5,
     "metadata": {},
     "output_type": "execute_result"
    }
   ],
   "source": [
    "import pandas as pd \n",
    "\n",
    "lat_sample = pd.DataFrame(DistLocations.get()['latencies'])\n",
    "lat_sample"
   ]
  },
  {
   "cell_type": "markdown",
   "metadata": {
    "ExecuteTime": {
     "end_time": "2020-03-16T16:34:34.176798Z",
     "start_time": "2020-03-16T16:34:34.165723Z"
    }
   },
   "source": [
    "*Notice that table has **NaN** values. They will be automatically filled with symmetric value if not specified.*\n",
    "\n",
    "We can transform the table to fill them up symmetrically. "
   ]
  },
  {
   "cell_type": "code",
   "execution_count": 6,
   "metadata": {
    "ExecuteTime": {
     "end_time": "2020-03-27T09:17:35.940332Z",
     "start_time": "2020-03-27T09:17:35.904410Z"
    }
   },
   "outputs": [
    {
     "data": {
      "text/html": [
       "<div>\n",
       "<style scoped>\n",
       "    .dataframe tbody tr th:only-of-type {\n",
       "        vertical-align: middle;\n",
       "    }\n",
       "\n",
       "    .dataframe tbody tr th {\n",
       "        vertical-align: top;\n",
       "    }\n",
       "\n",
       "    .dataframe thead th {\n",
       "        text-align: right;\n",
       "    }\n",
       "</style>\n",
       "<table border=\"1\" class=\"dataframe\">\n",
       "  <thead>\n",
       "    <tr style=\"text-align: right;\">\n",
       "      <th></th>\n",
       "      <th>LocB</th>\n",
       "      <th>LocA</th>\n",
       "    </tr>\n",
       "  </thead>\n",
       "  <tbody>\n",
       "    <tr>\n",
       "      <th>LocB</th>\n",
       "      <td>1.583029</td>\n",
       "      <td>9.673448</td>\n",
       "    </tr>\n",
       "    <tr>\n",
       "      <th>LocA</th>\n",
       "      <td>9.673448</td>\n",
       "      <td>2.240081</td>\n",
       "    </tr>\n",
       "  </tbody>\n",
       "</table>\n",
       "</div>"
      ],
      "text/plain": [
       "          LocB      LocA\n",
       "LocB  1.583029  9.673448\n",
       "LocA  9.673448  2.240081"
      ]
     },
     "execution_count": 6,
     "metadata": {},
     "output_type": "execute_result"
    }
   ],
   "source": [
    "lat_sample[pd.isnull(lat_sample)] = lat_sample.T[pd.isnull(lat_sample)]\n",
    "lat_sample"
   ]
  },
  {
   "cell_type": "markdown",
   "metadata": {},
   "source": [
    "---------------------\n",
    "Let's visualize the data."
   ]
  },
  {
   "cell_type": "code",
   "execution_count": 7,
   "metadata": {
    "ExecuteTime": {
     "end_time": "2020-03-27T09:17:41.570964Z",
     "start_time": "2020-03-27T09:17:35.952523Z"
    }
   },
   "outputs": [
    {
     "data": {
      "image/png": "[encoded data removed]",
      "text/plain": [
       "<Figure size 576x576 with 4 Axes>"
      ]
     },
     "metadata": {},
     "output_type": "display_data"
    }
   ],
   "source": [
    "# -- Prepare data: \n",
    "#  - Trasfer to dataframe\n",
    "#  - Fill null values with symmetic \n",
    "#  - Traform into list of tuples: 'from', 'to', 'value' \n",
    "import matplotlib.pyplot as plt\n",
    "import seaborn as sns\n",
    "sns.set(style='darkgrid')\n",
    "\n",
    "def prepare(x):\n",
    "    x = pd.DataFrame(x)\n",
    "    x[pd.isnull(x)] = x.T[pd.isnull(x)]\n",
    "    return x.stack().reset_index()\\\n",
    "                    .rename(columns={'level_0':'from', 'level_1':'to', 0: 'value'})\n",
    "                    \n",
    "# 2. Get 100 samples from the configuration with latencies\n",
    "df = pd.concat(prepare(DistLocations.get()['latencies']) for _ in range(100))\n",
    "\n",
    "# Visualize in a grid of histograms\n",
    "g = sns.FacetGrid(df, col='to', row='from', height=4, aspect=1)\n",
    "g = g.map(sns.distplot, 'value')\n"
   ]
  },
  {
   "cell_type": "markdown",
   "metadata": {},
   "source": [
    "## Peers and Topologies \n",
    "\n",
    "Simulation can work in two modes: \n",
    "\n",
    "1. **NetworkX**. When you pass a network topology: peers with all connections and peer types\n",
    "\n",
    "2. **Emergent**. Peer communicate with each other through bootstrap peers and network topology emerges itself, as peers exchange data with each other. Usually peer-to-peer network follow into this category. You can read more [here](https://en.wikipedia.org/wiki/Bootstrapping_node), or  read how [Bitcoin network](https://en.bitcoin.it/wiki/Network) is formed.  \n",
    "\n",
    "\n",
    "\n",
    "\n",
    "### Networkx topology\n",
    "\n",
    "Let's first see how we can form a network topology.\n"
   ]
  },
  {
   "cell_type": "code",
   "execution_count": 8,
   "metadata": {
    "ExecuteTime": {
     "end_time": "2020-03-27T09:17:43.066290Z",
     "start_time": "2020-03-27T09:17:41.577831Z"
    }
   },
   "outputs": [
    {
     "data": {
      "image/png": "[encoded data removed]",
      "text/plain": [
       "<Figure size 432x288 with 1 Axes>"
      ]
     },
     "metadata": {},
     "output_type": "display_data"
    }
   ],
   "source": [
    "import networkx as nx\n",
    "\n",
    "peer_num = 10\n",
    "# Generate a network topology \n",
    "G = nx.erdos_renyi_graph(10, 0.5)\n",
    "\n",
    "# Assign a peer type to the peers \n",
    "nx.set_node_attributes(G, {k: 'basic' for k in G.nodes()}, 'type')\n",
    "\n",
    "sns.set(style='dark')\n",
    "nx.draw_networkx(G)\n"
   ]
  },
  {
   "cell_type": "markdown",
   "metadata": {},
   "source": [
    "NetworkX is a library that has rich semantics and collection of graph generators. You can read more [here](https://networkx.github.io/documentation/stable/reference/generators.html).  \n",
    "\n",
    "You can choose any graph, generate them and put `type` as node attributes. `type` is a name for the peer type. We explain later how it will be used in a simulation.  \n",
    "\n",
    "\n",
    "\n",
    "### Emergent topology\n",
    "\n",
    "What if topology is not known?\n",
    "\n",
    "In this case we can model the peer discovery mechanism through *bootstrapping* peers. General bootstrap process is following: \n",
    "1. Bootstrap nodes are create in the system first. The goal of bootstrap nodes is to maintain list of peers and connect them with each other upon request.\n",
    "2. New peer joins the network. Peer sends a `Hello` message to one of bootstrap nodes. Bootstrap nodes are usually known in advance. Bootstrap node responds to the peer with a random sample of known online peers. \n",
    "3. The peer connect with other peers. \n",
    "\n",
    "\n",
    "This is all abstracted in simulation, but you can specify your own bootstrap logic later. \n",
    "\n",
    "\n",
    "To run default bootstrap you should pass as a parameter `topology` a dictionary with type `peer_id` -> {`type`: type_name}\n"
   ]
  },
  {
   "cell_type": "markdown",
   "metadata": {},
   "source": [
    "## Peer types and services\n",
    "\n",
    "Simulation also requires `peer_types` that is a map that describes peers in the system and the running scenario. \n",
    "\n",
    "Below we give an example of a simple map with one type: `basic`. Peer is described with a `PeerType(PeerConfig, services)`. `PeerConfig` describes with a configuration physical representation of a peer in the system. \n",
    "Each peer at minimum must have bandwidth and a location.  \n",
    "\n",
    "Finally, peers must have services to run in the system. They work as a running scenario. \n",
    "There some implemented standard services that you can user in your simulation. But you will also implement your own later!\n",
    "\n",
    "Each peer should have at least a connection service to build a network of peers and react on introduction messages. \n",
    "By default there two connection services: `BaseConnectionManager` and `P2PConnectionManager`. Both support basic connection primitives: connect, disconnect unresponsive peers. The difference is that later one will actively pull new peers to connect at least to `min_peers`, but when the number of connections is higher than `max_peers` it will start to refuse new connections and disconnect slowest peers. \n",
    "\n",
    "Let's see how it looks in code:\n"
   ]
  },
  {
   "cell_type": "code",
   "execution_count": 9,
   "metadata": {
    "ExecuteTime": {
     "end_time": "2020-03-27T09:17:43.208204Z",
     "start_time": "2020-03-27T09:17:43.085495Z"
    }
   },
   "outputs": [],
   "source": [
    "from p2psimpy.config import *\n",
    "from p2psimpy.consts import *\n",
    "    \n",
    "class PeerConfig(Config):\n",
    "    location = Dist('sample', DistLocations.locations)\n",
    "    bandwidth_ul = Dist( 'norm', (50*MBit, 10*MBit))\n",
    "    bandwidth_dl = Dist( 'norm', (50*MBit, 10*MBit))\n",
    "\n",
    "# Let's add ConnectionManager - that will periodically ping neighbours and check if they are online \n",
    "from p2psimpy.services.connection_manager import BaseConnectionManager\n",
    "# For each service you can define own configuration, or use default values.   \n",
    "# Lets use base connection manager - that will periodically ping peer and disconnect unresponsive peers.\n",
    "\n",
    "services = (BaseConnectionManager,)\n",
    "peer_types = {'basic': PeerType(PeerConfig, services)}"
   ]
  },
  {
   "cell_type": "markdown",
   "metadata": {},
   "source": [
    "How to use these configuration. Configs are used to get value. \n",
    "They work as a generator and attribute descriptors.  "
   ]
  },
  {
   "cell_type": "markdown",
   "metadata": {},
   "source": [
    "# Putting all together\n",
    "\n",
    "\n",
    "Let's combine all you learned so far and run a simple simulation. \n",
    "\n",
    "1. Define locations and simulation world parameters.\n",
    "2. Define topology and number of peers with their types.  \n",
    "3. Define what each peer type is with a `PeerConfig` and what it does with services. \n",
    "\n",
    "\n",
    "After we defined all this we can create a simulation object and run it with `.run(time)`.\n",
    "\n",
    "Simulation has it's internal clock and scheduler for all events. The parameter `time` is a time until which the simulation is run. \n",
    "\n",
    "***All the time is milliseconds**!\n",
    "\n",
    "\n",
    "\n"
   ]
  },
  {
   "cell_type": "markdown",
   "metadata": {
    "ExecuteTime": {
     "end_time": "2020-03-11T09:50:33.374122Z",
     "start_time": "2020-03-11T09:50:33.347834Z"
    }
   },
   "source": [
    "## Random given topology \n",
    "\n",
    "1. Given network with peer types and ids \n",
    "2. No network given - emergent P2P topology through bootstrap peers. "
   ]
  },
  {
   "cell_type": "code",
   "execution_count": 10,
   "metadata": {
    "ExecuteTime": {
     "end_time": "2020-03-27T09:17:43.889018Z",
     "start_time": "2020-03-27T09:17:43.214432Z"
    }
   },
   "outputs": [
    {
     "data": {
      "image/png": "[encoded data removed]",
      "text/plain": [
       "<Figure size 432x288 with 1 Axes>"
      ]
     },
     "metadata": {},
     "output_type": "display_data"
    }
   ],
   "source": [
    "from p2psimpy.config import *\n",
    "from p2psimpy.consts import *\n",
    "import networkx as nx\n",
    "\n",
    "class Locations(Config):\n",
    "    locations = ['LocA', 'LocB']\n",
    "    latencies = {\n",
    "        'LocB': {'LocB': Dist('gamma', (1, 1, 1))},\n",
    "        'LocA': {'LocB': Dist('norm', (12, 2)), 'LocA': Dist('norm', (2, 0.5))},\n",
    "    } \n",
    "\n",
    "# Generate network topology \n",
    "G = nx.erdos_renyi_graph(10, 0.5)\n",
    "# Assign a peer type to the peers \n",
    "nx.set_node_attributes(G, {k: 'basic' for k in G.nodes()}, 'type')\n",
    "\n",
    "class PeerConfig(Config):\n",
    "    location = Dist('sample', Locations.locations)\n",
    "    bandwidth_ul = Dist( 'norm', (50*MBit, 10*MBit))\n",
    "    bandwidth_dl = Dist( 'norm', (50*MBit, 10*MBit))\n",
    "\n",
    "# Let's add ConnectionManager - that will periodically ping neighbours and check if they are online \n",
    "from p2psimpy.services.connection_manager import BaseConnectionManager\n",
    "# For each service you can define own configuration, or use default values.   \n",
    "# Lets use base connection manager - that will periodically ping peer and disconnect unresponsive peers.\n",
    "\n",
    "services = (BaseConnectionManager,)\n",
    "peer_types = {'basic': PeerType(PeerConfig, services)}\n",
    "\n",
    "# Display the topology \n",
    "nx.draw_networkx(G)"
   ]
  },
  {
   "cell_type": "code",
   "execution_count": 11,
   "metadata": {
    "ExecuteTime": {
     "end_time": "2020-03-27T09:17:44.329539Z",
     "start_time": "2020-03-27T09:17:43.895337Z"
    }
   },
   "outputs": [
    {
     "name": "stdout",
     "output_type": "stream",
     "text": [
      "{'basic': PeerType(config=<class '__main__.PeerConfig'>, service_map=(<class 'p2psimpy.services.connection_manager.BaseConnectionManager'>,))}\n"
     ]
    }
   ],
   "source": [
    "from p2psimpy.simulation import BaseSimulation\n",
    "\n",
    "sim = BaseSimulation(Locations, G, peer_types, enable_logger=True, logger_dir='logs')\n",
    "\n",
    "# Let's run the simulation for 5 seconds\n",
    "sim.run(5_000)"
   ]
  },
  {
   "cell_type": "markdown",
   "metadata": {
    "ExecuteTime": {
     "end_time": "2020-03-17T12:40:15.632268Z",
     "start_time": "2020-03-17T12:40:15.613568Z"
    }
   },
   "source": [
    "----------------------------\n",
    "\n",
    "What's next? There is no output.\n",
    "\n",
    "We run the simulator with logger enabled to see the all the messages exchanged in the network. \n",
    "\n",
    "The output by default is written to the logs in `\\logs` directory. Let's see what is the output. \n",
    "Each peer writes own log with events happening like received message, connecting to a peer etc. \n",
    "\n",
    "For example:"
   ]
  },
  {
   "cell_type": "code",
   "execution_count": 12,
   "metadata": {
    "ExecuteTime": {
     "end_time": "2020-03-27T09:17:44.413024Z",
     "start_time": "2020-03-27T09:17:44.345639Z"
    }
   },
   "outputs": [
    {
     "name": "stdout",
     "output_type": "stream",
     "text": [
      "Peer_1:basic INFO 0.5921161844288354: Received message <Hello:> from Peer_8:basic\n",
      "Peer_1:basic INFO 0.5921161844288354: Connecting to Peer_8:basic\n",
      "Peer_1:basic INFO 0.5921161844288354: Sending message <Hello:> to Peer_8:basic\n",
      "Peer_1:basic INFO 4.893469775009914: Connecting to Peer_4:basic\n",
      "Peer_1:basic INFO 5.044123679781403: Received message <Hello:> from Peer_4:basic\n",
      "Peer_1:basic INFO 6.52071078391753: Received message <Hello:> from Peer_2:basic\n",
      "Peer_1:basic INFO 6.52071078391753: Connecting to Peer_2:basic\n",
      "Peer_1:basic INFO 6.52071078391753: Sending message <Hello:> to Peer_2:basic\n",
      "Peer_1:basic INFO 11.031160985087537: Received message <Hello:> from Peer_4:basic\n",
      "Peer_1:basic INFO 1000: Sending message <Ping:> to Peer_8:basic\n",
      "Peer_1:basic INFO 1000: Sending message <Ping:> to Peer_4:basic\n",
      "Peer_1:basic INFO 1000: Sending message <Ping:> to Peer_2:basic\n",
      "Peer_1:basic INFO 1000.9512096548616: Received message <Ping:> from Peer_8:basic\n",
      "Peer_1:basic INFO 1000.9512096548616: Sending message <Pong:> to Peer_8:basic\n",
      "Peer_1:basic INFO 1002.88137499999: Received message <Pong:> from Peer_8:basic\n",
      "Peer_1:basic INFO 1005.4692894239038: Received message <Ping:> from Peer_2:basic\n",
      "Peer_1:basic INFO 1005.4692894239038: Sending message <Pong:> to Peer_2:basic\n",
      "Peer_1:basic INFO 1006.5036455804408: Received message <Ping:> from Peer_4:basic\n",
      "Peer_1:basic INFO 1006.5036455804408: Sending message <Pong:> to Peer_4:basic\n",
      "Peer_1:basic INFO 1011.666104335629: Received message <Pong:> from Peer_2:basic\n",
      "Peer_1:basic INFO 1011.9308746399009: Received message <Pong:> from Peer_4:basic\n",
      "Peer_1:basic INFO 2000: Sending message <Ping:> to Peer_8:basic\n",
      "Peer_1:basic INFO 2000: Sending message <Ping:> to Peer_4:basic\n",
      "Peer_1:basic INFO 2000: Sending message <Ping:> to Peer_2:basic\n",
      "Peer_1:basic INFO 2001.1712097271718: Received message <Ping:> from Peer_8:basic\n",
      "Peer_1:basic INFO 2001.1712097271718: Sending message <Pong:> to Peer_8:basic\n",
      "Peer_1:basic INFO 2002.8160428584488: Received message <Pong:> from Peer_8:basic\n",
      "Peer_1:basic INFO 2006.5775051796975: Received message <Ping:> from Peer_4:basic\n",
      "Peer_1:basic INFO 2006.5775051796975: Sending message <Pong:> to Peer_4:basic\n",
      "Peer_1:basic INFO 2007.2453607306793: Received message <Ping:> from Peer_2:basic\n",
      "Peer_1:basic INFO 2007.2453607306793: Sending message <Pong:> to Peer_2:basic\n",
      "Peer_1:basic INFO 2011.3835504062322: Received message <Pong:> from Peer_4:basic\n",
      "Peer_1:basic INFO 2014.0017019322709: Received message <Pong:> from Peer_2:basic\n",
      "Peer_1:basic INFO 3000: Sending message <Ping:> to Peer_8:basic\n",
      "Peer_1:basic INFO 3000: Sending message <Ping:> to Peer_4:basic\n",
      "Peer_1:basic INFO 3000: Sending message <Ping:> to Peer_2:basic\n",
      "Peer_1:basic INFO 3000.8476450267135: Received message <Ping:> from Peer_8:basic\n",
      "Peer_1:basic INFO 3000.8476450267135: Sending message <Pong:> to Peer_8:basic\n",
      "Peer_1:basic INFO 3002.072670278589: Received message <Pong:> from Peer_8:basic\n",
      "Peer_1:basic INFO 3005.9683049641517: Received message <Ping:> from Peer_4:basic\n",
      "Peer_1:basic INFO 3005.9683049641517: Sending message <Pong:> to Peer_4:basic\n",
      "Peer_1:basic INFO 3008.3575106417966: Received message <Ping:> from Peer_2:basic\n",
      "Peer_1:basic INFO 3008.3575106417966: Sending message <Pong:> to Peer_2:basic\n",
      "Peer_1:basic INFO 3011.928217739345: Received message <Pong:> from Peer_2:basic\n",
      "Peer_1:basic INFO 3012.1137531746267: Received message <Pong:> from Peer_4:basic\n",
      "Peer_1:basic INFO 4000: Sending message <Ping:> to Peer_8:basic\n",
      "Peer_1:basic INFO 4000: Sending message <Ping:> to Peer_4:basic\n",
      "Peer_1:basic INFO 4000: Sending message <Ping:> to Peer_2:basic\n",
      "Peer_1:basic INFO 4001.171018003309: Received message <Pong:> from Peer_8:basic\n",
      "Peer_1:basic INFO 4002.6479358048514: Received message <Ping:> from Peer_8:basic\n",
      "Peer_1:basic INFO 4002.6479358048514: Sending message <Pong:> to Peer_8:basic\n",
      "Peer_1:basic INFO 4005.5099646560457: Received message <Ping:> from Peer_2:basic\n",
      "Peer_1:basic INFO 4005.5099646560457: Sending message <Pong:> to Peer_2:basic\n",
      "Peer_1:basic INFO 4005.879863975582: Received message <Ping:> from Peer_4:basic\n",
      "Peer_1:basic INFO 4005.879863975582: Sending message <Pong:> to Peer_4:basic\n",
      "Peer_1:basic INFO 4010.68858336033: Received message <Pong:> from Peer_2:basic\n",
      "Peer_1:basic INFO 4012.3633271355197: Received message <Pong:> from Peer_4:basic\n",
      "\n"
     ]
    }
   ],
   "source": [
    "with open('logs/Peer_1:basic.log') as s:\n",
    "    print(s.read())"
   ]
  },
  {
   "cell_type": "markdown",
   "metadata": {},
   "source": [
    "## Emergent topology\n",
    "\n",
    "Now let's try emergent topology, we will use the same configuration, but use bootstrap peer for discovery and building a network.  \n"
   ]
  },
  {
   "cell_type": "code",
   "execution_count": 13,
   "metadata": {
    "ExecuteTime": {
     "end_time": "2020-03-27T09:17:44.430653Z",
     "start_time": "2020-03-27T09:17:44.415134Z"
    }
   },
   "outputs": [],
   "source": [
    "from p2psimpy.services.connection_manager import P2PConnectionManager\n",
    "\n",
    "num_peers = 10\n",
    "\n",
    "topology_specs = {i:{'type': 'basic'} for i in range(1, num_peers+1)}\n",
    "\n",
    "class ConnectionConfig(Config):\n",
    "    min_peers = 4\n",
    "    max_peers = 8\n",
    "\n",
    "peer_types = {'basic': PeerType(PeerConfig, {P2PConnectionManager: ConnectionConfig})}\n"
   ]
  },
  {
   "cell_type": "code",
   "execution_count": 14,
   "metadata": {
    "ExecuteTime": {
     "end_time": "2020-03-27T09:17:44.729428Z",
     "start_time": "2020-03-27T09:17:44.442513Z"
    }
   },
   "outputs": [
    {
     "name": "stdout",
     "output_type": "stream",
     "text": [
      "{'basic': PeerType(config=<class '__main__.PeerConfig'>, service_map={<class 'p2psimpy.services.connection_manager.P2PConnectionManager'>: <class '__main__.ConnectionConfig'>})}\n"
     ]
    }
   ],
   "source": [
    "sim = BaseSimulation(Locations, topology_specs, peer_types, logger_dir='logs2')\n",
    "\n",
    "# Let's run the simulation for 5 seconds\n",
    "sim.run(5_000)"
   ]
  },
  {
   "cell_type": "code",
   "execution_count": 15,
   "metadata": {
    "ExecuteTime": {
     "end_time": "2020-03-27T09:17:46.596898Z",
     "start_time": "2020-03-27T09:17:44.765123Z"
    }
   },
   "outputs": [
    {
     "data": {
      "image/png": "[encoded data removed]",
      "text/plain": [
       "<Figure size 432x288 with 1 Axes>"
      ]
     },
     "metadata": {},
     "output_type": "display_data"
    }
   ],
   "source": [
    "G1 = sim.get_graph()\n",
    "nx.draw_networkx(G1)"
   ]
  },
  {
   "cell_type": "code",
   "execution_count": 16,
   "metadata": {
    "ExecuteTime": {
     "end_time": "2020-03-27T09:17:46.609528Z",
     "start_time": "2020-03-27T09:17:46.600756Z"
    }
   },
   "outputs": [
    {
     "name": "stdout",
     "output_type": "stream",
     "text": [
      "Peer_1:basic WARNING 0: Not enough peers, fetching more (0, 4)\n",
      "Peer_1:basic INFO 0.8163059059671157: Connecting to Peer_11:bootstrap\n",
      "Peer_1:basic INFO 1.4173426580680888: Received message <RequestPeers:> from Peer_11:bootstrap\n",
      "Peer_1:basic INFO 1.4173426580680888: Sending message <PeerList> to Peer_11:bootstrap\n",
      "Peer_1:basic INFO 1.7081655425927016: Received message <Hello:> from Peer_11:bootstrap\n",
      "Peer_1:basic WARNING 500: Not enough peers, fetching more (1, 4)\n",
      "Peer_1:basic INFO 500: Sending message <RequestPeers:> to Peer_11:bootstrap\n",
      "Peer_1:basic INFO 501.70315437156364: Received message <PeerList> from Peer_11:bootstrap\n",
      "Peer_1:basic WARNING 1000: Not enough peers, fetching more (1, 4)\n",
      "Peer_1:basic INFO 1000: Sending message <RequestPeers:> to Peer_11:bootstrap\n",
      "Peer_1:basic INFO 1000.720907315551: Received message <Hello:> from Peer_3:basic\n",
      "Peer_1:basic INFO 1000.720907315551: Connecting to Peer_3:basic\n",
      "Peer_1:basic INFO 1000.720907315551: Sending message <Hello:> to Peer_3:basic\n",
      "Peer_1:basic INFO 1000.720907315551: Sending message <RequestPeers:> to Peer_3:basic\n",
      "Peer_1:basic INFO 1001.3653112809898: Received message <RequestPeers:> from Peer_11:bootstrap\n",
      "Peer_1:basic INFO 1001.3653112809898: Sending message <PeerList> to Peer_11:bootstrap\n",
      "Peer_1:basic INFO 1004.2098807721239: Received message <PeerList> from Peer_11:bootstrap\n",
      "Peer_1:basic INFO 1004.2267878558431: Received message <PeerList> from Peer_3:basic\n",
      "Peer_1:basic INFO 1005.2426617072178: Connecting to Peer_4:basic\n",
      "Peer_1:basic INFO 1012.2009685371282: Received message <Hello:> from Peer_4:basic\n",
      "Peer_1:basic INFO 1013.0650176897412: Received message <RequestPeers:> from Peer_4:basic\n",
      "Peer_1:basic INFO 1013.0650176897412: Sending message <PeerList> to Peer_4:basic\n",
      "Peer_1:basic WARNING 1500: Not enough peers, fetching more (3, 4)\n",
      "Peer_1:basic INFO 1501.3462069792554: Connecting to Peer_10:basic\n",
      "Peer_1:basic INFO 1502.0135985222228: Received message <Hello:> from Peer_10:basic\n",
      "Peer_1:basic INFO 1502.140550387431: Received message <RequestPeers:> from Peer_10:basic\n",
      "Peer_1:basic INFO 1502.140550387431: Sending message <PeerList> to Peer_10:basic\n",
      "Peer_1:basic INFO 2000: Sending message <Ping:> to Peer_11:bootstrap\n",
      "Peer_1:basic INFO 2000: Sending message <Ping:> to Peer_3:basic\n",
      "Peer_1:basic INFO 2000: Sending message <Ping:> to Peer_4:basic\n",
      "Peer_1:basic INFO 2000.5956685751191: Received message <Ping:> from Peer_11:bootstrap\n",
      "Peer_1:basic INFO 2000.5956685751191: Sending message <Pong:> to Peer_11:bootstrap\n",
      "Peer_1:basic INFO 2000.8643708749655: Received message <Ping:> from Peer_3:basic\n",
      "Peer_1:basic INFO 2000.8643708749655: Sending message <Pong:> to Peer_3:basic\n",
      "Peer_1:basic INFO 2001.905038015043: Received message <Pong:> from Peer_11:bootstrap\n",
      "Peer_1:basic INFO 2003.3720257237255: Received message <Pong:> from Peer_3:basic\n",
      "Peer_1:basic INFO 2006.5049188843998: Received message <Ping:> from Peer_4:basic\n",
      "Peer_1:basic INFO 2006.5049188843998: Sending message <Pong:> to Peer_4:basic\n",
      "Peer_1:basic INFO 2014.7059308085306: Received message <Pong:> from Peer_4:basic\n",
      "Peer_1:basic INFO 2500: Sending message <Ping:> to Peer_10:basic\n",
      "Peer_1:basic INFO 2501.5858863922435: Received message <Pong:> from Peer_10:basic\n",
      "Peer_1:basic INFO 2501.6498933089765: Received message <Ping:> from Peer_10:basic\n",
      "Peer_1:basic INFO 2501.6498933089765: Sending message <Pong:> to Peer_10:basic\n",
      "Peer_1:basic INFO 3000: Sending message <Ping:> to Peer_11:bootstrap\n",
      "Peer_1:basic INFO 3000: Sending message <Ping:> to Peer_3:basic\n",
      "Peer_1:basic INFO 3000: Sending message <Ping:> to Peer_4:basic\n",
      "Peer_1:basic INFO 3000.5444852539304: Received message <Ping:> from Peer_11:bootstrap\n",
      "Peer_1:basic INFO 3000.5444852539304: Sending message <Pong:> to Peer_11:bootstrap\n",
      "Peer_1:basic INFO 3000.6529873131426: Received message <Ping:> from Peer_3:basic\n",
      "Peer_1:basic INFO 3000.6529873131426: Sending message <Pong:> to Peer_3:basic\n",
      "Peer_1:basic INFO 3000.9476034707964: Received message <RequestPeers:> from Peer_11:bootstrap\n",
      "Peer_1:basic INFO 3000.9476034707964: Sending message <PeerList> to Peer_11:bootstrap\n",
      "Peer_1:basic INFO 3001.686469019551: Received message <Pong:> from Peer_3:basic\n",
      "Peer_1:basic INFO 3001.9996442210713: Received message <Pong:> from Peer_11:bootstrap\n",
      "Peer_1:basic INFO 3005.5934254271547: Received message <Ping:> from Peer_4:basic\n",
      "Peer_1:basic INFO 3005.5934254271547: Sending message <Pong:> to Peer_4:basic\n",
      "Peer_1:basic INFO 3011.6229998911845: Received message <Pong:> from Peer_4:basic\n",
      "Peer_1:basic INFO 3500: Sending message <Ping:> to Peer_10:basic\n",
      "Peer_1:basic INFO 3500.646030379652: Received message <Ping:> from Peer_10:basic\n",
      "Peer_1:basic INFO 3500.646030379652: Sending message <Pong:> to Peer_10:basic\n",
      "Peer_1:basic INFO 3501.0637005897834: Received message <Pong:> from Peer_10:basic\n",
      "Peer_1:basic INFO 3501.123927628732: Received message <RequestPeers:> from Peer_11:bootstrap\n",
      "Peer_1:basic INFO 3501.123927628732: Sending message <PeerList> to Peer_11:bootstrap\n",
      "Peer_1:basic INFO 4000: Sending message <Ping:> to Peer_3:basic\n",
      "Peer_1:basic INFO 4000: Sending message <Ping:> to Peer_4:basic\n",
      "Peer_1:basic INFO 4000.9105742488805: Received message <RequestPeers:> from Peer_11:bootstrap\n",
      "Peer_1:basic INFO 4000.9105742488805: Sending message <PeerList> to Peer_11:bootstrap\n",
      "Peer_1:basic INFO 4002.1313242367332: Received message <Ping:> from Peer_3:basic\n",
      "Peer_1:basic INFO 4002.1313242367332: Sending message <Pong:> to Peer_3:basic\n",
      "Peer_1:basic INFO 4002.3513936611103: Received message <Pong:> from Peer_3:basic\n",
      "Peer_1:basic INFO 4005.9868935480754: Received message <Ping:> from Peer_4:basic\n",
      "Peer_1:basic INFO 4005.9868935480754: Sending message <Pong:> to Peer_4:basic\n",
      "Peer_1:basic INFO 4010.9532992892096: Received message <Pong:> from Peer_4:basic\n",
      "Peer_1:basic INFO 4500: Sending message <Ping:> to Peer_10:basic\n",
      "Peer_1:basic INFO 4501.079355745907: Received message <Ping:> from Peer_10:basic\n",
      "Peer_1:basic INFO 4501.079355745907: Sending message <Pong:> to Peer_10:basic\n",
      "Peer_1:basic INFO 4501.277662349418: Received message <Pong:> from Peer_10:basic\n",
      "\n"
     ]
    }
   ],
   "source": [
    "with open('logs2/Peer_1:basic.log') as s:\n",
    "    print(s.read())"
   ]
  },
  {
   "cell_type": "markdown",
   "metadata": {},
   "source": [
    "------------------\n",
    "\n",
    "Now you get how to work a simulation, in the next notebook we will take a look into services and implement our own.  \n"
   ]
  }
 ],
 "metadata": {
  "hide_input": false,
  "kernelspec": {
   "display_name": "Python Conda",
   "language": "python",
   "name": "python3"
  },
  "language_info": {
   "codemirror_mode": {
    "name": "ipython",
    "version": 3
   },
   "file_extension": ".py",
   "mimetype": "text/x-python",
   "name": "python",
   "nbconvert_exporter": "python",
   "pygments_lexer": "ipython3",
   "version": "3.7.4"
  },
  "pycharm": {
   "stem_cell": {
    "cell_type": "raw",
    "metadata": {
     "collapsed": false
    },
    "source": []
   }
  },
  "toc": {
   "base_numbering": 1,
   "nav_menu": {},
   "number_sections": true,
   "sideBar": true,
   "skip_h1_title": false,
   "title_cell": "Table of Contents",
   "title_sidebar": "Contents",
   "toc_cell": false,
   "toc_position": {
    "height": "524px",
    "left": "441px",
    "top": "355px",
    "width": "256px"
   },
   "toc_section_display": true,
   "toc_window_display": false
  },
  "varInspector": {
   "cols": {
    "lenName": 16,
    "lenType": 16,
    "lenVar": 40
   },
   "kernels_config": {
    "python": {
     "delete_cmd_postfix": "",
     "delete_cmd_prefix": "del ",
     "library": "var_list.py",
     "varRefreshCmd": "print(var_dic_list())"
    },
    "r": {
     "delete_cmd_postfix": ") ",
     "delete_cmd_prefix": "rm(",
     "library": "var_list.r",
     "varRefreshCmd": "cat(var_dic_list()) "
    }
   },
   "types_to_exclude": [
    "module",
    "function",
    "builtin_function_or_method",
    "instance",
    "_Feature"
   ],
   "window_display": false
  }
 },
 "nbformat": 4,
 "nbformat_minor": 4
}
