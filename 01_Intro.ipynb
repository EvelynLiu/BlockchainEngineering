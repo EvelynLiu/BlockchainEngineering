{
 "cells": [
  {
   "cell_type": "markdown",
   "metadata": {
    "slideshow": {
     "slide_type": "slide"
    }
   },
   "source": [
    "#  Introduction\n",
    "\n",
    "\n",
    "Each blockchain works in a peer-to-peer environment. P2P environment is a network where peers are connected to each other and exchange information and run applications on top of it.\n",
    "\n",
    "The goal of this notebook is to explain the building blocks for any blockchain system. \n",
    "- We will build a system block by block.\n",
    "- Distributed systems are hard, there are many unpredictable errors: race conditions, nasty bugs, deadlocks.\n",
    "- We will simplify the world to get to juiciest parts without leaving out the essentials.  \n",
    "\n",
    "\n",
    "We will simulate the p2p enviorment locally to get the idea of how such system work and get the design decision that devloper make when designing such system.\n",
    "\n",
    "To show different tradeoffs and why developers and researcher choose certain designs we need a way to simulate such environment. Here we will simulate network and message exchange with a [SimPy](simpy.readthedocs.io/en/latest/).\n",
    "\n",
    "For the simplicity of use we implement a P2P network simulation: `p2psimpy`. \n",
    "\n",
    "# BaseSimulation\n",
    "\n",
    "The simulation starts with a `BaseSimulation` class. This class represents the network of peers with their physical representations in the world, such as `location`, `bandwidth`. \n",
    "\n",
    "`BaseSimulation` requires 3 main parameters in the constructor: \n",
    " - *Locations* - generator class for the locations. \n",
    " - *Topology* - networkx graph with attribute `type`, or a dictionary `peer_id -> {'type': peer_type }` \n",
    " - *Type map with services* - map `type -> PeerType object ` \n",
    "\n",
    "Let's go one by one. \n",
    "\n",
    "## Locations \n",
    "\n",
    "Simulator works in a space with different locations to simulate network latency. You have to define your own locations and latency between them. \n",
    "\n",
    "Locations are defined with as a `Config` class. \n",
    "This class can be used as generators of parameters, saved and loaded as yaml file. Parameters can be constant, or probabilistic(with a probability distribution).\n"
   ]
  },
  {
   "cell_type": "markdown",
   "metadata": {},
   "source": [
    "Location configuration should contain at least two fields: `locations` and `latencies`. \n",
    "- `locations` is an array or a tuple with names of locations.\n",
    "- `latencies` is a dictionary (matrix) with latencies of pairwise connections.\n",
    "\n",
    "Depending on the experiments latencies can be constant, but a more realistic model is a probabilistic distribution.\n",
    "Such distribution is represented with `Dist` class. \n",
    "\n",
    "`Dist` class is a wrap around [scipy.stats](https://docs.scipy.org/doc/scipy/reference/generated/scipy.stats.norm.html#scipy.stats.norm), which has rich collection of distributions.  \n",
    "\n",
    "Finally,  `Config.get()` samples all the parameters from distributions and returns them as a dictionary.  \n",
    "\n",
    "Let's try out:"
   ]
  },
  {
   "cell_type": "code",
   "execution_count": 1,
   "metadata": {
    "ExecuteTime": {
     "end_time": "2020-03-19T17:36:03.688032Z",
     "start_time": "2020-03-19T17:36:02.868921Z"
    }
   },
   "outputs": [],
   "source": [
    "from p2psimpy.config import *\n",
    "\n",
    "class ConstLocations(Config):\n",
    "    locations = ['LocA', 'LocB']\n",
    "    latencies = {\n",
    "        'LocA': {'LocB': 10, 'LocA': 2},\n",
    "        'LocB': {'LocB': 1}\n",
    "    }    \n",
    "\n",
    "class DistLocations(Config):\n",
    "    locations = ['LocA', 'LocB']\n",
    "    latencies = {\n",
    "        'LocB': {'LocB': Dist('gamma', (1, 1, 1))},\n",
    "        'LocA': {'LocB': Dist('norm', (12, 2)), 'LocA': Dist('norm', (2, 0.5))},\n",
    "    }    \n",
    "    "
   ]
  },
  {
   "cell_type": "code",
   "execution_count": 2,
   "metadata": {
    "ExecuteTime": {
     "end_time": "2020-03-19T17:36:03.706590Z",
     "start_time": "2020-03-19T17:36:03.693029Z"
    }
   },
   "outputs": [
    {
     "data": {
      "text/plain": [
       "{'latencies': {'LocA': {'LocB': 10, 'LocA': 2}, 'LocB': {'LocB': 1}},\n",
       " 'locations': ['LocA', 'LocB']}"
      ]
     },
     "execution_count": 2,
     "metadata": {},
     "output_type": "execute_result"
    }
   ],
   "source": [
    "ConstLocations.get()"
   ]
  },
  {
   "cell_type": "code",
   "execution_count": 3,
   "metadata": {
    "ExecuteTime": {
     "end_time": "2020-03-19T17:36:03.726556Z",
     "start_time": "2020-03-19T17:36:03.717624Z"
    }
   },
   "outputs": [
    {
     "data": {
      "text/plain": [
       "{'latencies': {'LocB': {'LocB': 1.1425963618705468},\n",
       "  'LocA': {'LocB': 13.093699068737694, 'LocA': 2.526922166807382}},\n",
       " 'locations': ['LocA', 'LocB']}"
      ]
     },
     "execution_count": 3,
     "metadata": {},
     "output_type": "execute_result"
    }
   ],
   "source": [
    "DistLocations.get()"
   ]
  },
  {
   "cell_type": "markdown",
   "metadata": {},
   "source": [
    "Every time you call `Config.get()` it will return new sample"
   ]
  },
  {
   "cell_type": "code",
   "execution_count": 4,
   "metadata": {
    "ExecuteTime": {
     "end_time": "2020-03-19T17:36:03.741373Z",
     "start_time": "2020-03-19T17:36:03.732030Z"
    }
   },
   "outputs": [
    {
     "data": {
      "text/plain": [
       "{'latencies': {'LocB': {'LocB': 1.4160285927885958},\n",
       "  'LocA': {'LocB': 14.491929939777217, 'LocA': 1.4787172980530185}},\n",
       " 'locations': ['LocA', 'LocB']}"
      ]
     },
     "execution_count": 4,
     "metadata": {},
     "output_type": "execute_result"
    }
   ],
   "source": [
    "DistLocations.get()"
   ]
  },
  {
   "cell_type": "raw",
   "metadata": {},
   "source": []
  },
  {
   "cell_type": "markdown",
   "metadata": {},
   "source": [
    "For the simplicity we can represent latencies sample as pandas dataframe. It provides readable table. "
   ]
  },
  {
   "cell_type": "code",
   "execution_count": 5,
   "metadata": {
    "ExecuteTime": {
     "end_time": "2020-03-19T17:36:04.221330Z",
     "start_time": "2020-03-19T17:36:03.745777Z"
    }
   },
   "outputs": [
    {
     "data": {
      "text/html": [
       "<div>\n",
       "<style scoped>\n",
       "    .dataframe tbody tr th:only-of-type {\n",
       "        vertical-align: middle;\n",
       "    }\n",
       "\n",
       "    .dataframe tbody tr th {\n",
       "        vertical-align: top;\n",
       "    }\n",
       "\n",
       "    .dataframe thead th {\n",
       "        text-align: right;\n",
       "    }\n",
       "</style>\n",
       "<table border=\"1\" class=\"dataframe\">\n",
       "  <thead>\n",
       "    <tr style=\"text-align: right;\">\n",
       "      <th></th>\n",
       "      <th>LocB</th>\n",
       "      <th>LocA</th>\n",
       "    </tr>\n",
       "  </thead>\n",
       "  <tbody>\n",
       "    <tr>\n",
       "      <th>LocB</th>\n",
       "      <td>3.118451</td>\n",
       "      <td>12.539468</td>\n",
       "    </tr>\n",
       "    <tr>\n",
       "      <th>LocA</th>\n",
       "      <td>NaN</td>\n",
       "      <td>1.799154</td>\n",
       "    </tr>\n",
       "  </tbody>\n",
       "</table>\n",
       "</div>"
      ],
      "text/plain": [
       "          LocB       LocA\n",
       "LocB  3.118451  12.539468\n",
       "LocA       NaN   1.799154"
      ]
     },
     "execution_count": 5,
     "metadata": {},
     "output_type": "execute_result"
    }
   ],
   "source": [
    "import pandas as pd \n",
    "\n",
    "lat_sample = pd.DataFrame(DistLocations.get()['latencies'])\n",
    "lat_sample"
   ]
  },
  {
   "cell_type": "markdown",
   "metadata": {
    "ExecuteTime": {
     "end_time": "2020-03-16T16:34:34.176798Z",
     "start_time": "2020-03-16T16:34:34.165723Z"
    }
   },
   "source": [
    "*Notice that table has **NaN** values. They will be automatically filled with symmetric value if not specified.*\n",
    "\n",
    "We can transform the table to fill them up symmetrically. "
   ]
  },
  {
   "cell_type": "code",
   "execution_count": 6,
   "metadata": {
    "ExecuteTime": {
     "end_time": "2020-03-19T17:36:04.241702Z",
     "start_time": "2020-03-19T17:36:04.223291Z"
    }
   },
   "outputs": [
    {
     "data": {
      "text/html": [
       "<div>\n",
       "<style scoped>\n",
       "    .dataframe tbody tr th:only-of-type {\n",
       "        vertical-align: middle;\n",
       "    }\n",
       "\n",
       "    .dataframe tbody tr th {\n",
       "        vertical-align: top;\n",
       "    }\n",
       "\n",
       "    .dataframe thead th {\n",
       "        text-align: right;\n",
       "    }\n",
       "</style>\n",
       "<table border=\"1\" class=\"dataframe\">\n",
       "  <thead>\n",
       "    <tr style=\"text-align: right;\">\n",
       "      <th></th>\n",
       "      <th>LocB</th>\n",
       "      <th>LocA</th>\n",
       "    </tr>\n",
       "  </thead>\n",
       "  <tbody>\n",
       "    <tr>\n",
       "      <th>LocB</th>\n",
       "      <td>3.118451</td>\n",
       "      <td>12.539468</td>\n",
       "    </tr>\n",
       "    <tr>\n",
       "      <th>LocA</th>\n",
       "      <td>12.539468</td>\n",
       "      <td>1.799154</td>\n",
       "    </tr>\n",
       "  </tbody>\n",
       "</table>\n",
       "</div>"
      ],
      "text/plain": [
       "           LocB       LocA\n",
       "LocB   3.118451  12.539468\n",
       "LocA  12.539468   1.799154"
      ]
     },
     "execution_count": 6,
     "metadata": {},
     "output_type": "execute_result"
    }
   ],
   "source": [
    "lat_sample[pd.isnull(lat_sample)] = lat_sample.T[pd.isnull(lat_sample)]\n",
    "lat_sample"
   ]
  },
  {
   "cell_type": "markdown",
   "metadata": {},
   "source": [
    "---------------------\n",
    "Let's visualize the data."
   ]
  },
  {
   "cell_type": "code",
   "execution_count": 8,
   "metadata": {
    "ExecuteTime": {
     "end_time": "2020-03-19T17:36:33.010117Z",
     "start_time": "2020-03-19T17:36:30.897768Z"
    }
   },
   "outputs": [
    {
     "data": {
      "image/png": "[encoded data removed]",
      "text/plain": [
       "<Figure size 576x576 with 4 Axes>"
      ]
     },
     "metadata": {},
     "output_type": "display_data"
    }
   ],
   "source": [
    "# -- Prepare data: \n",
    "#  - Trasfer to dataframe\n",
    "#  - Fill null values with symmetic \n",
    "#  - Traform into list of tuples: 'from', 'to', 'value' \n",
    "import matplotlib.pyplot as plt\n",
    "import seaborn as sns\n",
    "sns.set(style='darkgrid')\n",
    "\n",
    "def prepare(x):\n",
    "    x = pd.DataFrame(x)\n",
    "    x[pd.isnull(x)] = x.T[pd.isnull(x)]\n",
    "    return x.stack().reset_index()\\\n",
    "                    .rename(columns={'level_0':'from', 'level_1':'to', 0: 'value'})\n",
    "                    \n",
    "# 2. Get 100 samples from the configuration with latencies\n",
    "df = pd.concat(prepare(DistLocations.get()['latencies']) for _ in range(100))\n",
    "\n",
    "# Visualize in a grid of histograms\n",
    "g = sns.FacetGrid(df, col='to', row='from', height=4, aspect=1)\n",
    "g = g.map(sns.distplot, 'value')\n"
   ]
  },
  {
   "cell_type": "markdown",
   "metadata": {},
   "source": [
    "## Peers and Topologies \n",
    "\n",
    "Simulation can work in two modes: \n",
    "\n",
    "1. **NetworkX**. When you pass a network topology: peers with all connections and peer types\n",
    "\n",
    "2. **Emergent**. Peer communicate with each other through bootstrap peers and network topology emerges itself, as peers exchange data with each other. Usually peer-to-peer network follow into this category. You can read more [here](https://en.wikipedia.org/wiki/Bootstrapping_node), or  read how [Bitcoin network](https://en.bitcoin.it/wiki/Network) is formed.  \n",
    "\n",
    "\n",
    "\n",
    "\n",
    "### Networkx topology\n",
    "\n",
    "Let's first see how we can form a network topology.\n"
   ]
  },
  {
   "cell_type": "code",
   "execution_count": 9,
   "metadata": {
    "ExecuteTime": {
     "end_time": "2020-03-19T17:36:37.520999Z",
     "start_time": "2020-03-19T17:36:36.903612Z"
    }
   },
   "outputs": [
    {
     "data": {
      "image/png": "[encoded data removed]",
      "text/plain": [
       "<Figure size 432x288 with 1 Axes>"
      ]
     },
     "metadata": {},
     "output_type": "display_data"
    }
   ],
   "source": [
    "import networkx as nx\n",
    "\n",
    "peer_num = 10\n",
    "# Generate a network topology \n",
    "G = nx.erdos_renyi_graph(10, 0.5)\n",
    "\n",
    "# Assign a peer type to the peers \n",
    "nx.set_node_attributes(G, {k: 'basic' for k in G.nodes()}, 'type')\n",
    "\n",
    "sns.set(style='dark')\n",
    "nx.draw_networkx(G)\n"
   ]
  },
  {
   "cell_type": "markdown",
   "metadata": {},
   "source": [
    "NetworkX is a library that has rich semantics and collection of graph generators. You can read more [here](https://networkx.github.io/documentation/stable/reference/generators.html).  \n",
    "\n",
    "You can choose any graph, generate them and put `type` as node attributes. `type` is a name for the peer type. We explain later how it will be used in a simulation.  \n",
    "\n",
    "\n",
    "\n",
    "### Emergent topology\n",
    "\n",
    "What if topology is not known?\n",
    "\n",
    "In this case we can model the peer discovery mechanism through *bootstrapping* peers. General bootstrap process is following: \n",
    "1. Bootstrap nodes are create in the system first. The goal of bootstrap nodes is to maintain list of peers and connect them with each other upon request.\n",
    "2. New peer joins the network. Peer sends a `Hello` message to one of bootstrap nodes. Bootstrap nodes are usually known in advance. Bootstrap node responds to the peer with a random sample of known online peers. \n",
    "3. The peer connect with other peers. \n",
    "\n",
    "\n",
    "This is all abstracted in simulation, but you can specify your own bootstrap logic later. \n",
    "\n",
    "\n",
    "To run default bootstrap you should pass as a parameter `topology` a dictionary with type `peer_id` -> {`type`: type_name}\n"
   ]
  },
  {
   "cell_type": "markdown",
   "metadata": {},
   "source": [
    "## Peer types and services\n",
    "\n",
    "Simulation also requires `peer_types` that is a map that describes peers in the system and the running scenario. \n",
    "\n",
    "Below we give an example of a simple map with one type: `basic`. Peer is described with a `PeerType(PeerConfig, services)`. `PeerConfig` describes with a configuration physical representation of a peer in the system. \n",
    "Each peer at minimum must have bandwidth and a location.  \n",
    "\n",
    "Finally, peers must have services to run in the system. They work as a running scenario. \n",
    "There some implemented standard services that you can user in your simulation. But you will also implement your own later!\n",
    "\n",
    "Each peer should have at least a connection service to build a network of peers and react on introduction messages. \n",
    "By default there two connection services: `BaseConnectionManager` and `P2PConnectionManager`. Both support basic connection primitives: connect, disconnect unresponsive peers. The difference is that later one will actively pull new peers to connect at least to `min_peers`, but when the number of connections is higher than `max_peers` it will start to refuse new connections and disconnect slowest peers. \n",
    "\n",
    "Let's see how it looks in code:\n"
   ]
  },
  {
   "cell_type": "code",
   "execution_count": 10,
   "metadata": {
    "ExecuteTime": {
     "end_time": "2020-03-19T17:36:41.286805Z",
     "start_time": "2020-03-19T17:36:41.256282Z"
    }
   },
   "outputs": [],
   "source": [
    "from p2psimpy.config import *\n",
    "from p2psimpy.consts import *\n",
    "    \n",
    "class PeerConfig(Config):\n",
    "    location = Dist('sample', DistLocations.locations)\n",
    "    bandwidth_ul = Dist( 'norm', (50*MBit, 10*MBit))\n",
    "    bandwidth_dl = Dist( 'norm', (50*MBit, 10*MBit))\n",
    "\n",
    "# Let's add ConnectionManager - that will periodically ping neighbours and check if they are online \n",
    "from p2psimpy.services.connection_manager import BaseConnectionManager\n",
    "# For each service you can define own configuration, or use default values.   \n",
    "# Lets use base connection manager - that will periodically ping peer and disconnect unresponsive peers.\n",
    "\n",
    "services = (BaseConnectionManager,)\n",
    "peer_types = {'basic': PeerType(PeerConfig, services)}"
   ]
  },
  {
   "cell_type": "markdown",
   "metadata": {},
   "source": [
    "How to use these configuration. Configs are used to get value. \n",
    "They work as a generator and attribute descriptors.  "
   ]
  },
  {
   "cell_type": "markdown",
   "metadata": {},
   "source": [
    "# Putting all together\n",
    "\n",
    "\n",
    "Let's combine all you learned so far and run a simple simulation. \n",
    "\n",
    "1. Define locations and simulation world parameters.\n",
    "2. Define topology and number of peers with their types.  \n",
    "3. Define what each peer type is with a `PeerConfig` and what it does with services. \n",
    "\n",
    "\n",
    "After we defined all this we can create a simulation object and run it with `.run(time)`.\n",
    "\n",
    "Simulation has it's internal clock and scheduler for all events. The parameter `time` is a time until which the simulation is run. \n",
    "\n",
    "***All the time is milliseconds**!\n",
    "\n",
    "\n",
    "\n"
   ]
  },
  {
   "cell_type": "markdown",
   "metadata": {
    "ExecuteTime": {
     "end_time": "2020-03-11T09:50:33.374122Z",
     "start_time": "2020-03-11T09:50:33.347834Z"
    }
   },
   "source": [
    "## Random given topology \n",
    "\n",
    "1. Given network with peer types and ids \n",
    "2. No network given - emergent P2P topology through bootstrap peers. "
   ]
  },
  {
   "cell_type": "code",
   "execution_count": 11,
   "metadata": {
    "ExecuteTime": {
     "end_time": "2020-03-19T17:36:45.437010Z",
     "start_time": "2020-03-19T17:36:45.135865Z"
    }
   },
   "outputs": [
    {
     "data": {
      "image/png": "[encoded data removed]",
      "text/plain": [
       "<Figure size 432x288 with 1 Axes>"
      ]
     },
     "metadata": {},
     "output_type": "display_data"
    }
   ],
   "source": [
    "from p2psimpy.config import *\n",
    "from p2psimpy.consts import *\n",
    "import networkx as nx\n",
    "\n",
    "class Locations(Config):\n",
    "    locations = ['LocA', 'LocB']\n",
    "    latencies = {\n",
    "        'LocB': {'LocB': Dist('gamma', (1, 1, 1))},\n",
    "        'LocA': {'LocB': Dist('norm', (12, 2)), 'LocA': Dist('norm', (2, 0.5))},\n",
    "    } \n",
    "\n",
    "# Generate network topology \n",
    "G = nx.erdos_renyi_graph(10, 0.5)\n",
    "# Assign a peer type to the peers \n",
    "nx.set_node_attributes(G, {k: 'basic' for k in G.nodes()}, 'type')\n",
    "\n",
    "class PeerConfig(Config):\n",
    "    location = Dist('sample', Locations.locations)\n",
    "    bandwidth_ul = Dist( 'norm', (50*MBit, 10*MBit))\n",
    "    bandwidth_dl = Dist( 'norm', (50*MBit, 10*MBit))\n",
    "\n",
    "# Let's add ConnectionManager - that will periodically ping neighbours and check if they are online \n",
    "from p2psimpy.services.connection_manager import BaseConnectionManager\n",
    "# For each service you can define own configuration, or use default values.   \n",
    "# Lets use base connection manager - that will periodically ping peer and disconnect unresponsive peers.\n",
    "\n",
    "services = (BaseConnectionManager,)\n",
    "peer_types = {'basic': PeerType(PeerConfig, services)}\n",
    "\n",
    "# Display the topology \n",
    "nx.draw_networkx(G)"
   ]
  },
  {
   "cell_type": "code",
   "execution_count": 12,
   "metadata": {
    "ExecuteTime": {
     "end_time": "2020-03-19T17:36:47.216851Z",
     "start_time": "2020-03-19T17:36:47.062463Z"
    }
   },
   "outputs": [],
   "source": [
    "from p2psimpy.simulation import BaseSimulation\n",
    "\n",
    "sim = BaseSimulation(Locations, G, peer_types, enable_logger=True, logger_dir='logs')\n",
    "\n",
    "# Let's run the simulation for 5 seconds\n",
    "sim.run(5_000)"
   ]
  },
  {
   "cell_type": "markdown",
   "metadata": {
    "ExecuteTime": {
     "end_time": "2020-03-17T12:40:15.632268Z",
     "start_time": "2020-03-17T12:40:15.613568Z"
    }
   },
   "source": [
    "----------------------------\n",
    "\n",
    "What's next? There is no output.\n",
    "\n",
    "We run the simulator with logger enabled to see the all the messages exchanged in the network. \n",
    "\n",
    "The output by default is written to the logs in `\\logs` directory. Let's see what is the output. \n",
    "Each peer writes own log with events happening like received message, connecting to a peer etc. \n",
    "\n",
    "For example:"
   ]
  },
  {
   "cell_type": "code",
   "execution_count": 13,
   "metadata": {
    "ExecuteTime": {
     "end_time": "2020-03-19T17:36:49.718528Z",
     "start_time": "2020-03-19T17:36:49.710897Z"
    }
   },
   "outputs": [
    {
     "name": "stdout",
     "output_type": "stream",
     "text": [
      "Peer_1:basic INFO 0.6489702246110659: Received message <Hello:> from Peer_4:basic\n",
      "Peer_1:basic INFO 0.6489702246110659: Connecting to Peer_4:basic\n",
      "Peer_1:basic INFO 0.6489702246110659: Sending message <Hello:> to Peer_4:basic\n",
      "Peer_1:basic INFO 0.714713620497239: Received message <Hello:> from Peer_7:basic\n",
      "Peer_1:basic INFO 0.714713620497239: Connecting to Peer_7:basic\n",
      "Peer_1:basic INFO 0.714713620497239: Sending message <Hello:> to Peer_7:basic\n",
      "Peer_1:basic INFO 0.811383749933676: Received message <Hello:> from Peer_9:basic\n",
      "Peer_1:basic INFO 0.811383749933676: Connecting to Peer_9:basic\n",
      "Peer_1:basic INFO 0.811383749933676: Sending message <Hello:> to Peer_9:basic\n",
      "Peer_1:basic INFO 1.0476751104935136: Connecting to Peer_2:basic\n",
      "Peer_1:basic INFO 1.1395662348270856: Received message <Hello:> from Peer_2:basic\n",
      "Peer_1:basic INFO 2.3454898329830978: Received message <Hello:> from Peer_2:basic\n",
      "Peer_1:basic INFO 5.972230080672046: Received message <Hello:> from Peer_3:basic\n",
      "Peer_1:basic INFO 5.972230080672046: Connecting to Peer_3:basic\n",
      "Peer_1:basic INFO 5.972230080672046: Sending message <Hello:> to Peer_3:basic\n",
      "Peer_1:basic INFO 6.0907292468218435: Connecting to Peer_5:basic\n",
      "Peer_1:basic INFO 6.391621016925103: Received message <Hello:> from Peer_5:basic\n",
      "Peer_1:basic INFO 11.616427007610973: Received message <Hello:> from Peer_5:basic\n",
      "Peer_1:basic INFO 1000: Sending message <Ping:> to Peer_4:basic\n",
      "Peer_1:basic INFO 1000: Sending message <Ping:> to Peer_7:basic\n",
      "Peer_1:basic INFO 1000: Sending message <Ping:> to Peer_9:basic\n",
      "Peer_1:basic INFO 1000: Sending message <Ping:> to Peer_2:basic\n",
      "Peer_1:basic INFO 1000: Sending message <Ping:> to Peer_3:basic\n",
      "Peer_1:basic INFO 1000: Sending message <Ping:> to Peer_5:basic\n",
      "Peer_1:basic INFO 1000.6887505070592: Received message <Ping:> from Peer_7:basic\n",
      "Peer_1:basic INFO 1000.6887505070592: Sending message <Pong:> to Peer_7:basic\n",
      "Peer_1:basic INFO 1000.6943627178334: Received message <Ping:> from Peer_9:basic\n",
      "Peer_1:basic INFO 1000.6943627178334: Sending message <Pong:> to Peer_9:basic\n",
      "Peer_1:basic INFO 1001.0956617228335: Received message <Pong:> from Peer_7:basic\n",
      "Peer_1:basic INFO 1001.6760563610142: Received message <Ping:> from Peer_4:basic\n",
      "Peer_1:basic INFO 1001.6760563610142: Sending message <Pong:> to Peer_4:basic\n",
      "Peer_1:basic INFO 1001.9086997390837: Received message <Pong:> from Peer_9:basic\n",
      "Peer_1:basic INFO 1001.9114351030838: Received message <Pong:> from Peer_2:basic\n",
      "Peer_1:basic INFO 1002.4498740215865: Received message <Pong:> from Peer_4:basic\n",
      "Peer_1:basic INFO 1003.227219809191: Received message <Ping:> from Peer_2:basic\n",
      "Peer_1:basic INFO 1003.227219809191: Sending message <Pong:> to Peer_2:basic\n",
      "Peer_1:basic INFO 1006.0740978854241: Received message <Ping:> from Peer_5:basic\n",
      "Peer_1:basic INFO 1006.0740978854241: Sending message <Pong:> to Peer_5:basic\n",
      "Peer_1:basic INFO 1006.7524742590697: Received message <Ping:> from Peer_3:basic\n",
      "Peer_1:basic INFO 1006.7524742590697: Sending message <Pong:> to Peer_3:basic\n",
      "Peer_1:basic INFO 1011.2003294893542: Received message <Pong:> from Peer_3:basic\n",
      "Peer_1:basic INFO 1013.2714621306874: Received message <Pong:> from Peer_5:basic\n",
      "Peer_1:basic INFO 2000: Sending message <Ping:> to Peer_4:basic\n",
      "Peer_1:basic INFO 2000: Sending message <Ping:> to Peer_7:basic\n",
      "Peer_1:basic INFO 2000: Sending message <Ping:> to Peer_9:basic\n",
      "Peer_1:basic INFO 2000: Sending message <Ping:> to Peer_2:basic\n",
      "Peer_1:basic INFO 2000: Sending message <Ping:> to Peer_3:basic\n",
      "Peer_1:basic INFO 2000: Sending message <Ping:> to Peer_5:basic\n",
      "Peer_1:basic INFO 2000.5003355661781: Received message <Ping:> from Peer_7:basic\n",
      "Peer_1:basic INFO 2000.5003355661781: Sending message <Pong:> to Peer_7:basic\n",
      "Peer_1:basic INFO 2000.6441096931305: Received message <Ping:> from Peer_4:basic\n",
      "Peer_1:basic INFO 2000.6441096931305: Sending message <Pong:> to Peer_4:basic\n",
      "Peer_1:basic INFO 2000.9563714569776: Received message <Ping:> from Peer_9:basic\n",
      "Peer_1:basic INFO 2000.9563714569776: Sending message <Pong:> to Peer_9:basic\n",
      "Peer_1:basic INFO 2001.3422730698207: Received message <Pong:> from Peer_4:basic\n",
      "Peer_1:basic INFO 2001.346983349767: Received message <Ping:> from Peer_2:basic\n",
      "Peer_1:basic INFO 2001.346983349767: Sending message <Pong:> to Peer_2:basic\n",
      "Peer_1:basic INFO 2001.5291021799862: Received message <Pong:> from Peer_9:basic\n",
      "Peer_1:basic INFO 2002.2961193138376: Received message <Pong:> from Peer_7:basic\n",
      "Peer_1:basic INFO 2003.7086961036373: Received message <Pong:> from Peer_2:basic\n",
      "Peer_1:basic INFO 2006.83447173195: Received message <Ping:> from Peer_5:basic\n",
      "Peer_1:basic INFO 2006.83447173195: Sending message <Pong:> to Peer_5:basic\n",
      "Peer_1:basic INFO 2008.0112049849956: Received message <Ping:> from Peer_3:basic\n",
      "Peer_1:basic INFO 2008.0112049849956: Sending message <Pong:> to Peer_3:basic\n",
      "Peer_1:basic INFO 2010.693535762803: Received message <Pong:> from Peer_3:basic\n",
      "Peer_1:basic INFO 2013.8276687735934: Received message <Pong:> from Peer_5:basic\n",
      "Peer_1:basic INFO 3000: Sending message <Ping:> to Peer_4:basic\n",
      "Peer_1:basic INFO 3000: Sending message <Ping:> to Peer_7:basic\n",
      "Peer_1:basic INFO 3000: Sending message <Ping:> to Peer_9:basic\n",
      "Peer_1:basic INFO 3000: Sending message <Ping:> to Peer_2:basic\n",
      "Peer_1:basic INFO 3000: Sending message <Ping:> to Peer_3:basic\n",
      "Peer_1:basic INFO 3000: Sending message <Ping:> to Peer_5:basic\n",
      "Peer_1:basic INFO 3000.508325847806: Received message <Ping:> from Peer_9:basic\n",
      "Peer_1:basic INFO 3000.508325847806: Sending message <Pong:> to Peer_9:basic\n",
      "Peer_1:basic INFO 3000.627270238731: Received message <Ping:> from Peer_2:basic\n",
      "Peer_1:basic INFO 3000.627270238731: Sending message <Pong:> to Peer_2:basic\n",
      "Peer_1:basic INFO 3000.696566676255: Received message <Ping:> from Peer_7:basic\n",
      "Peer_1:basic INFO 3000.696566676255: Sending message <Pong:> to Peer_7:basic\n",
      "Peer_1:basic INFO 3001.630680736773: Received message <Ping:> from Peer_4:basic\n",
      "Peer_1:basic INFO 3001.630680736773: Sending message <Pong:> to Peer_4:basic\n",
      "Peer_1:basic INFO 3001.9449595143424: Received message <Pong:> from Peer_9:basic\n",
      "Peer_1:basic INFO 3002.23653443103: Received message <Pong:> from Peer_7:basic\n",
      "Peer_1:basic INFO 3002.245287524897: Received message <Pong:> from Peer_2:basic\n",
      "Peer_1:basic INFO 3003.4322395376666: Received message <Pong:> from Peer_4:basic\n",
      "Peer_1:basic INFO 3004.876951441303: Received message <Ping:> from Peer_3:basic\n",
      "Peer_1:basic INFO 3004.876951441303: Sending message <Pong:> to Peer_3:basic\n",
      "Peer_1:basic INFO 3005.3503360224618: Received message <Ping:> from Peer_5:basic\n",
      "Peer_1:basic INFO 3005.3503360224618: Sending message <Pong:> to Peer_5:basic\n",
      "Peer_1:basic INFO 3011.224072989923: Received message <Pong:> from Peer_3:basic\n",
      "Peer_1:basic INFO 3012.934564946275: Received message <Pong:> from Peer_5:basic\n",
      "Peer_1:basic INFO 4000: Sending message <Ping:> to Peer_4:basic\n",
      "Peer_1:basic INFO 4000: Sending message <Ping:> to Peer_7:basic\n",
      "Peer_1:basic INFO 4000: Sending message <Ping:> to Peer_9:basic\n",
      "Peer_1:basic INFO 4000: Sending message <Ping:> to Peer_2:basic\n",
      "Peer_1:basic INFO 4000: Sending message <Ping:> to Peer_3:basic\n",
      "Peer_1:basic INFO 4000: Sending message <Ping:> to Peer_5:basic\n",
      "Peer_1:basic INFO 4000.5587463993943: Received message <Ping:> from Peer_9:basic\n",
      "Peer_1:basic INFO 4000.5587463993943: Sending message <Pong:> to Peer_9:basic\n",
      "Peer_1:basic INFO 4000.7585916251674: Received message <Ping:> from Peer_4:basic\n",
      "Peer_1:basic INFO 4000.7585916251674: Sending message <Pong:> to Peer_4:basic\n",
      "Peer_1:basic INFO 4001.2565826324194: Received message <Pong:> from Peer_4:basic\n",
      "Peer_1:basic INFO 4001.258696988997: Received message <Ping:> from Peer_2:basic\n",
      "Peer_1:basic INFO 4001.258696988997: Sending message <Pong:> to Peer_2:basic\n",
      "Peer_1:basic INFO 4001.3701514503737: Received message <Ping:> from Peer_7:basic\n",
      "Peer_1:basic INFO 4001.3701514503737: Sending message <Pong:> to Peer_7:basic\n",
      "Peer_1:basic INFO 4002.015255004506: Received message <Pong:> from Peer_9:basic\n",
      "Peer_1:basic INFO 4002.1516856994317: Received message <Pong:> from Peer_7:basic\n",
      "Peer_1:basic INFO 4002.9471096785983: Received message <Pong:> from Peer_2:basic\n",
      "Peer_1:basic INFO 4005.051977111445: Received message <Ping:> from Peer_5:basic\n",
      "Peer_1:basic INFO 4005.051977111445: Sending message <Pong:> to Peer_5:basic\n",
      "Peer_1:basic INFO 4006.496414084327: Received message <Ping:> from Peer_3:basic\n",
      "Peer_1:basic INFO 4006.496414084327: Sending message <Pong:> to Peer_3:basic\n",
      "Peer_1:basic INFO 4010.69683449813: Received message <Pong:> from Peer_3:basic\n",
      "Peer_1:basic INFO 4011.8358642016874: Received message <Pong:> from Peer_5:basic\n",
      "\n"
     ]
    }
   ],
   "source": [
    "with open('logs/Peer_1:basic.log') as s:\n",
    "    print(s.read())"
   ]
  },
  {
   "cell_type": "markdown",
   "metadata": {},
   "source": [
    "## Emergent topology\n",
    "\n",
    "Now let's try emergent topology, we will use the same configuration, but use bootstrap peer for discovery and building a network.  \n"
   ]
  },
  {
   "cell_type": "code",
   "execution_count": 14,
   "metadata": {
    "ExecuteTime": {
     "end_time": "2020-03-19T17:37:01.530888Z",
     "start_time": "2020-03-19T17:37:01.520192Z"
    }
   },
   "outputs": [],
   "source": [
    "from p2psimpy.services.connection_manager import P2PConnectionManager\n",
    "\n",
    "num_peers = 10\n",
    "\n",
    "topology_specs = {i:{'type': 'basic'} for i in range(1, num_peers+1)}\n",
    "\n",
    "class ConnectionConfig(Config):\n",
    "    min_peers = 4\n",
    "    max_peers = 8\n",
    "\n",
    "peer_types = {'basic': PeerType(PeerConfig, {P2PConnectionManager: ConnectionConfig})}\n"
   ]
  },
  {
   "cell_type": "code",
   "execution_count": 15,
   "metadata": {
    "ExecuteTime": {
     "end_time": "2020-03-19T17:37:03.071661Z",
     "start_time": "2020-03-19T17:37:02.927325Z"
    }
   },
   "outputs": [],
   "source": [
    "sim = BaseSimulation(Locations, topology_specs, peer_types, logger_dir='logs2')\n",
    "\n",
    "# Let's run the simulation for 5 seconds\n",
    "sim.run(5_000)"
   ]
  },
  {
   "cell_type": "code",
   "execution_count": 16,
   "metadata": {
    "ExecuteTime": {
     "end_time": "2020-03-19T17:37:03.634227Z",
     "start_time": "2020-03-19T17:37:03.303742Z"
    }
   },
   "outputs": [
    {
     "data": {
      "image/png": "[encoded data removed]",
      "text/plain": [
       "<Figure size 432x288 with 1 Axes>"
      ]
     },
     "metadata": {},
     "output_type": "display_data"
    }
   ],
   "source": [
    "G1 = sim.get_graph()\n",
    "nx.draw_networkx(G1)"
   ]
  },
  {
   "cell_type": "code",
   "execution_count": 17,
   "metadata": {
    "ExecuteTime": {
     "end_time": "2020-03-19T17:37:04.454610Z",
     "start_time": "2020-03-19T17:37:04.448327Z"
    }
   },
   "outputs": [
    {
     "name": "stdout",
     "output_type": "stream",
     "text": [
      "Peer_1:basic WARNING 0: Not enough peers, fetching more (0, 4)\n",
      "Peer_1:basic INFO 6.19163443321154: Connecting to Peer_11:bootstrap\n",
      "Peer_1:basic INFO 11.297405337276157: Received message <Hello:> from Peer_11:bootstrap\n",
      "Peer_1:basic INFO 11.679516200979812: Received message <RequestPeers:> from Peer_11:bootstrap\n",
      "Peer_1:basic INFO 11.679516200979812: Sending message <PeerList> to Peer_11:bootstrap\n",
      "Peer_1:basic WARNING 500: Not enough peers, fetching more (1, 4)\n",
      "Peer_1:basic INFO 500: Sending message <RequestPeers:> to Peer_11:bootstrap\n",
      "Peer_1:basic INFO 506.71690174144635: Received message <RequestPeers:> from Peer_11:bootstrap\n",
      "Peer_1:basic INFO 506.71690174144635: Sending message <PeerList> to Peer_11:bootstrap\n",
      "Peer_1:basic INFO 512.3032942909022: Received message <PeerList> from Peer_11:bootstrap\n",
      "Peer_1:basic WARNING 1000: Not enough peers, fetching more (1, 4)\n",
      "Peer_1:basic INFO 1000: Sending message <RequestPeers:> to Peer_11:bootstrap\n",
      "Peer_1:basic INFO 1005.4248332104931: Connecting to Peer_3:basic\n",
      "Peer_1:basic INFO 1011.1121007570957: Received message <PeerList> from Peer_11:bootstrap\n",
      "Peer_1:basic INFO 1011.1733992002306: Received message <RequestPeers:> from Peer_3:basic\n",
      "Peer_1:basic INFO 1011.1733992002306: Sending message <PeerList> to Peer_3:basic\n",
      "Peer_1:basic INFO 1011.2615828193765: Received message <Hello:> from Peer_3:basic\n",
      "Peer_1:basic WARNING 1500: Not enough peers, fetching more (2, 4)\n",
      "Peer_1:basic INFO 1500: Sending message <RequestPeers:> to Peer_3:basic\n",
      "Peer_1:basic INFO 1500: Sending message <RequestPeers:> to Peer_11:bootstrap\n",
      "Peer_1:basic INFO 1500.8071338462128: Received message <Hello:> from Peer_2:basic\n",
      "Peer_1:basic INFO 1500.8071338462128: Connecting to Peer_2:basic\n",
      "Peer_1:basic INFO 1500.8071338462128: Sending message <Hello:> to Peer_2:basic\n",
      "Peer_1:basic INFO 1500.8071338462128: Sending message <RequestPeers:> to Peer_2:basic\n",
      "Peer_1:basic INFO 1502.4197211786045: Received message <PeerList> from Peer_2:basic\n",
      "Peer_1:basic INFO 1504.359761208465: Connecting to Peer_8:basic\n",
      "Peer_1:basic INFO 1510.3649358197406: Received message <RequestPeers:> from Peer_8:basic\n",
      "Peer_1:basic INFO 1510.3649358197406: Sending message <PeerList> to Peer_8:basic\n",
      "Peer_1:basic INFO 1510.3658530971513: Received message <PeerList> from Peer_11:bootstrap\n",
      "Peer_1:basic INFO 1511.8706653524775: Received message <Hello:> from Peer_8:basic\n",
      "Peer_1:basic INFO 1513.269332011997: Received message <PeerList> from Peer_3:basic\n",
      "Peer_1:basic INFO 2006.6117602477498: Received message <RequestPeers:> from Peer_11:bootstrap\n",
      "Peer_1:basic INFO 2006.6117602477498: Sending message <PeerList> to Peer_11:bootstrap\n",
      "Peer_1:basic INFO 2500: Sending message <Ping:> to Peer_3:basic\n",
      "Peer_1:basic INFO 2500: Sending message <Ping:> to Peer_2:basic\n",
      "Peer_1:basic INFO 2500: Sending message <Ping:> to Peer_8:basic\n",
      "Peer_1:basic INFO 2500.8359307813885: Received message <Ping:> from Peer_2:basic\n",
      "Peer_1:basic INFO 2500.8359307813885: Sending message <Pong:> to Peer_2:basic\n",
      "Peer_1:basic INFO 2502.1797781772575: Received message <Pong:> from Peer_2:basic\n",
      "Peer_1:basic INFO 2505.9210641665236: Received message <Ping:> from Peer_8:basic\n",
      "Peer_1:basic INFO 2505.9210641665236: Sending message <Pong:> to Peer_8:basic\n",
      "Peer_1:basic INFO 2506.6575410158257: Received message <Ping:> from Peer_3:basic\n",
      "Peer_1:basic INFO 2506.6575410158257: Sending message <Pong:> to Peer_3:basic\n",
      "Peer_1:basic INFO 2511.7097781892026: Received message <Pong:> from Peer_3:basic\n",
      "Peer_1:basic INFO 2513.8621154067114: Received message <Pong:> from Peer_8:basic\n",
      "Peer_1:basic INFO 3000: Sending message <Ping:> to Peer_11:bootstrap\n",
      "Peer_1:basic INFO 3005.5376965694527: Received message <RequestPeers:> from Peer_11:bootstrap\n",
      "Peer_1:basic INFO 3005.5376965694527: Sending message <PeerList> to Peer_11:bootstrap\n",
      "Peer_1:basic INFO 3005.935258119084: Received message <Ping:> from Peer_11:bootstrap\n",
      "Peer_1:basic INFO 3005.935258119084: Sending message <Pong:> to Peer_11:bootstrap\n",
      "Peer_1:basic INFO 3012.9379679724207: Received message <Pong:> from Peer_11:bootstrap\n",
      "Peer_1:basic INFO 3500: Sending message <Ping:> to Peer_3:basic\n",
      "Peer_1:basic INFO 3500: Sending message <Ping:> to Peer_2:basic\n",
      "Peer_1:basic INFO 3500: Sending message <Ping:> to Peer_8:basic\n",
      "Peer_1:basic INFO 3501.1637497704082: Received message <Ping:> from Peer_2:basic\n",
      "Peer_1:basic INFO 3501.1637497704082: Sending message <Pong:> to Peer_2:basic\n",
      "Peer_1:basic INFO 3502.2602177387525: Received message <Pong:> from Peer_2:basic\n",
      "Peer_1:basic INFO 3505.651160488829: Received message <Ping:> from Peer_8:basic\n",
      "Peer_1:basic INFO 3505.651160488829: Sending message <Pong:> to Peer_8:basic\n",
      "Peer_1:basic INFO 3506.6464569348514: Received message <Ping:> from Peer_3:basic\n",
      "Peer_1:basic INFO 3506.6464569348514: Sending message <Pong:> to Peer_3:basic\n",
      "Peer_1:basic INFO 3506.690068054622: Received message <RequestPeers:> from Peer_11:bootstrap\n",
      "Peer_1:basic INFO 3506.690068054622: Sending message <PeerList> to Peer_11:bootstrap\n",
      "Peer_1:basic INFO 3512.0097540172205: Received message <Pong:> from Peer_8:basic\n",
      "Peer_1:basic INFO 3512.3889818398543: Received message <Pong:> from Peer_3:basic\n",
      "Peer_1:basic INFO 4500: Sending message <Ping:> to Peer_11:bootstrap\n",
      "Peer_1:basic INFO 4500: Sending message <Ping:> to Peer_3:basic\n",
      "Peer_1:basic INFO 4500: Sending message <Ping:> to Peer_2:basic\n",
      "Peer_1:basic INFO 4500: Sending message <Ping:> to Peer_8:basic\n",
      "Peer_1:basic INFO 4500.896267893428: Received message <Ping:> from Peer_2:basic\n",
      "Peer_1:basic INFO 4500.896267893428: Sending message <Pong:> to Peer_2:basic\n",
      "Peer_1:basic INFO 4501.6092218997865: Received message <Pong:> from Peer_2:basic\n",
      "Peer_1:basic INFO 4504.234154458748: Received message <Ping:> from Peer_11:bootstrap\n",
      "Peer_1:basic INFO 4504.234154458748: Sending message <Pong:> to Peer_11:bootstrap\n",
      "Peer_1:basic INFO 4505.355709506027: Received message <Ping:> from Peer_3:basic\n",
      "Peer_1:basic INFO 4505.355709506027: Sending message <Pong:> to Peer_3:basic\n",
      "Peer_1:basic INFO 4505.927410467029: Received message <Ping:> from Peer_8:basic\n",
      "Peer_1:basic INFO 4505.927410467029: Sending message <Pong:> to Peer_8:basic\n",
      "Peer_1:basic INFO 4511.604907854494: Received message <Pong:> from Peer_3:basic\n",
      "Peer_1:basic INFO 4513.571131028382: Received message <Pong:> from Peer_11:bootstrap\n",
      "Peer_1:basic INFO 4514.9940782674885: Received message <Pong:> from Peer_8:basic\n",
      "\n"
     ]
    }
   ],
   "source": [
    "with open('logs2/Peer_1:basic.log') as s:\n",
    "    print(s.read())"
   ]
  },
  {
   "cell_type": "markdown",
   "metadata": {},
   "source": [
    "------------------\n",
    "\n",
    "Now you get how to work a simulation, in the next notebook we will take a look into services and implement our own.  \n"
   ]
  }
 ],
 "metadata": {
  "hide_input": false,
  "kernelspec": {
   "display_name": "Python Conda",
   "language": "python",
   "name": "python3"
  },
  "language_info": {
   "codemirror_mode": {
    "name": "ipython",
    "version": 3
   },
   "file_extension": ".py",
   "mimetype": "text/x-python",
   "name": "python",
   "nbconvert_exporter": "python",
   "pygments_lexer": "ipython3",
   "version": "3.7.4"
  },
  "pycharm": {
   "stem_cell": {
    "cell_type": "raw",
    "metadata": {
     "collapsed": false
    },
    "source": []
   }
  },
  "toc": {
   "base_numbering": 1,
   "nav_menu": {},
   "number_sections": true,
   "sideBar": true,
   "skip_h1_title": false,
   "title_cell": "Table of Contents",
   "title_sidebar": "Contents",
   "toc_cell": false,
   "toc_position": {
    "height": "524px",
    "left": "441px",
    "top": "355px",
    "width": "256px"
   },
   "toc_section_display": true,
   "toc_window_display": false
  },
  "varInspector": {
   "cols": {
    "lenName": 16,
    "lenType": 16,
    "lenVar": 40
   },
   "kernels_config": {
    "python": {
     "delete_cmd_postfix": "",
     "delete_cmd_prefix": "del ",
     "library": "var_list.py",
     "varRefreshCmd": "print(var_dic_list())"
    },
    "r": {
     "delete_cmd_postfix": ") ",
     "delete_cmd_prefix": "rm(",
     "library": "var_list.r",
     "varRefreshCmd": "cat(var_dic_list()) "
    }
   },
   "types_to_exclude": [
    "module",
    "function",
    "builtin_function_or_method",
    "instance",
    "_Feature"
   ],
   "window_display": false
  }
 },
 "nbformat": 4,
 "nbformat_minor": 4
}
