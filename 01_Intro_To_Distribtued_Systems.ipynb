{
 "cells": [
  {
   "cell_type": "markdown",
   "metadata": {
    "slideshow": {
     "slide_type": "slide"
    }
   },
   "source": [
    "#  Introduction\n",
    "\n",
    "To understand how Blockchain works we must first discuss how distribtued systems work.\n",
    "\n",
    "The goal of this notebook is to explain the building blocks for any distirbuted system, a particularly a peer-to-peer system. P2P environment is a network where peers are connected, exchange information and run applications on top of it.\n",
    "\n",
    "The goals are as follows:\n",
    "- We will build a system block by block.\n",
    "- Distributed systems are hard; there are many random errors: race conditions, nasty bugs, deadlocks.\n",
    "- We will simplify the world to get to juiciest parts without leaving out the essentials.  \n",
    "\n",
    "\n",
    "We will simulate the p2p environment locally to get the idea of how such system work and get the design decision that developers make when designing such systems.\n",
    "\n",
    "To show different tradeoffs and why developers and researcher choose specific designs, we need a way to simulate such environment. Here we will simulate the network and message exchange via a  discrete event simulator: [SimPy](simpy.readthedocs.io/en/latest/).\n",
    "\n",
    "For the simplicity of use, you can use wrapper for Simpwe implement a P2P network simulation: `p2psimpy`. \n",
    "\n",
    "\n",
    "# Simulation of P2P environments\n",
    "\n",
    "We start the notebook by introducitng the backbones for a simulation: `BaseSimulation`.\n",
    "This class represents the network of peers with their physical representations in the world, such as physical `location`, [`bandwidth`](https://en.wikipedia.org/wiki/Bandwidth_(computing)). \n",
    "\n",
    "These properties both define and restrict the capabalities of how fast you can transfer message and how the message passes travles through the network (which peers see the message, which channels are used).\n",
    "\n",
    "\n",
    "`BaseSimulation` consists of 3 main parameters: \n",
    " - *Locations*\n",
    " - *Network Topology* \n",
    " - *Services and Message Processors* \n",
    "\n",
    "We will explain them one by one. \n"
   ]
  },
  {
   "cell_type": "markdown",
   "metadata": {},
   "source": [
    "\n",
    "### Locations \n",
    "\n",
    "The simulator simulates connections delays (`latency`) between the nodes in the physical space (`location`).\n",
    "This is a very rough representation of reality, but is sufficient for us.  \n",
    "\n",
    "\n",
    "\n",
    "Locations are defined as a `Config` class. Variables can be constant, or probabilistic (with a probability distribution using scipy).\n",
    "This class can be used as generators of parameters, saved and loaded as [YAML](https://en.wikipedia.org/wiki/YAML) file."
   ]
  },
  {
   "cell_type": "markdown",
   "metadata": {},
   "source": [
    "  "
   ]
  },
  {
   "cell_type": "markdown",
   "metadata": {},
   "source": [
    "Location configuration should contain at least two fields: `locations` and `latencies`. \n",
    "- `locations` is an array or a tuple with names of locations.\n",
    "- `latencies` is a dictionary (matrix) with latencies of pairwise connections.\n",
    "\n",
    "Depending on the experiments, latencies can be constant, but a more realistic model is a probabilistic distribution.\n",
    "Such distribution is represented with `Dist` class. \n",
    "\n",
    "`Dist` class is a wrap-around [scipy.stats](https://docs.scipy.org/doc/scipy/reference/stats.html), which has a rich collection of distributions. Use the [link](https://docs.scipy.org/doc/scipy/reference/stats.html) as a reference documentation when choosing a distirbution function.   \n",
    "\n",
    "Finally,  `Config.get()` samples all the parameters from distributions and returns them as a dictionary.  \n",
    "\n",
    "Let's try it out:"
   ]
  },
  {
   "cell_type": "code",
   "execution_count": null,
   "metadata": {},
   "outputs": [],
   "source": [
    "Explain why distribution makes sense - jitter \n",
    "# Latencies aren't const\n",
    "\n"
   ]
  },
  {
   "cell_type": "code",
   "execution_count": 10,
   "metadata": {
    "ExecuteTime": {
     "end_time": "2020-03-27T09:17:35.256784Z",
     "start_time": "2020-03-27T09:17:34.199645Z"
    },
    "recordTiming": true
   },
   "outputs": [],
   "source": [
    "from p2psimpy.config import *\n",
    "\n",
    "\n",
    "class ConstLocations(Config):\n",
    "    '''A configuration with 2 locations: LocA and LocB with constant latencies.'''\n",
    "    locations = ['LocA', 'LocB']\n",
    "    latencies = {\n",
    "        'LocA': {'LocB': 10, 'LocA': 2},\n",
    "        'LocB': {'LocB': 1}\n",
    "    }    \n",
    "\n",
    "class DistLocations(Config):\n",
    "    '''A configuration with 2 locations: LocA and LocB with variable latencies defined with a statistical function.'''\n",
    "    locations = ['LocA', 'LocB']\n",
    "    latencies = {\n",
    "        'LocB': {'LocB': Dist('gamma', (1, 1, 1))},\n",
    "        'LocA': {'LocB': Dist('norm', (12, 2)), 'LocA': Dist('norm', (2, 0.5))},\n",
    "    }    \n",
    "    "
   ]
  },
  {
   "cell_type": "code",
   "execution_count": 8,
   "metadata": {
    "ExecuteTime": {
     "end_time": "2020-03-27T09:17:35.274429Z",
     "start_time": "2020-03-27T09:17:35.259195Z"
    }
   },
   "outputs": [
    {
     "data": {
      "text/plain": [
       "{'latencies': {'LocA': {'LocB': 10, 'LocA': 2}, 'LocB': {'LocB': 1}},\n",
       " 'locations': ['LocA', 'LocB']}"
      ]
     },
     "execution_count": 8,
     "metadata": {},
     "output_type": "execute_result"
    }
   ],
   "source": [
    "ConstLocations.get()"
   ]
  },
  {
   "cell_type": "code",
   "execution_count": 4,
   "metadata": {
    "ExecuteTime": {
     "end_time": "2020-03-27T09:17:35.287131Z",
     "start_time": "2020-03-27T09:17:35.278297Z"
    }
   },
   "outputs": [
    {
     "data": {
      "text/plain": [
       "{'latencies': {'LocB': {'LocB': 1.6393804009100026},\n",
       "  'LocA': {'LocB': 10.857344785903441, 'LocA': 1.9516169004021526}},\n",
       " 'locations': ['LocA', 'LocB']}"
      ]
     },
     "execution_count": 4,
     "metadata": {},
     "output_type": "execute_result"
    }
   ],
   "source": [
    "DistLocations.get()"
   ]
  },
  {
   "cell_type": "markdown",
   "metadata": {},
   "source": [
    "Every time you call `Config.get()` it will return new sample"
   ]
  },
  {
   "cell_type": "code",
   "execution_count": 5,
   "metadata": {
    "ExecuteTime": {
     "end_time": "2020-03-27T09:17:35.304760Z",
     "start_time": "2020-03-27T09:17:35.294903Z"
    }
   },
   "outputs": [
    {
     "data": {
      "text/plain": [
       "{'latencies': {'LocB': {'LocB': 1.2078745454149307},\n",
       "  'LocA': {'LocB': 14.274658978491406, 'LocA': 2.2083191059878438}},\n",
       " 'locations': ['LocA', 'LocB']}"
      ]
     },
     "execution_count": 5,
     "metadata": {},
     "output_type": "execute_result"
    }
   ],
   "source": [
    "DistLocations.get()"
   ]
  },
  {
   "cell_type": "markdown",
   "metadata": {},
   "source": [
    " "
   ]
  },
  {
   "cell_type": "markdown",
   "metadata": {},
   "source": [
    "To visualize it we can represent latencies sample as pandas dataframe. It provides a readable table:"
   ]
  },
  {
   "cell_type": "code",
   "execution_count": 12,
   "metadata": {
    "ExecuteTime": {
     "end_time": "2020-03-27T09:17:35.896505Z",
     "start_time": "2020-03-27T09:17:35.307036Z"
    }
   },
   "outputs": [
    {
     "data": {
      "text/html": [
       "<div>\n",
       "<style scoped>\n",
       "    .dataframe tbody tr th:only-of-type {\n",
       "        vertical-align: middle;\n",
       "    }\n",
       "\n",
       "    .dataframe tbody tr th {\n",
       "        vertical-align: top;\n",
       "    }\n",
       "\n",
       "    .dataframe thead th {\n",
       "        text-align: right;\n",
       "    }\n",
       "</style>\n",
       "<table border=\"1\" class=\"dataframe\">\n",
       "  <thead>\n",
       "    <tr style=\"text-align: right;\">\n",
       "      <th></th>\n",
       "      <th>LocB</th>\n",
       "      <th>LocA</th>\n",
       "    </tr>\n",
       "  </thead>\n",
       "  <tbody>\n",
       "    <tr>\n",
       "      <th>LocB</th>\n",
       "      <td>4.709333</td>\n",
       "      <td>11.894776</td>\n",
       "    </tr>\n",
       "    <tr>\n",
       "      <th>LocA</th>\n",
       "      <td>NaN</td>\n",
       "      <td>1.871933</td>\n",
       "    </tr>\n",
       "  </tbody>\n",
       "</table>\n",
       "</div>"
      ],
      "text/plain": [
       "          LocB       LocA\n",
       "LocB  4.709333  11.894776\n",
       "LocA       NaN   1.871933"
      ]
     },
     "execution_count": 12,
     "metadata": {},
     "output_type": "execute_result"
    }
   ],
   "source": [
    "import pandas as pd \n",
    "\n",
    "lat_sample = pd.DataFrame(DistLocations.get()['latencies'])\n",
    "lat_sample"
   ]
  },
  {
   "cell_type": "markdown",
   "metadata": {
    "ExecuteTime": {
     "end_time": "2020-03-16T16:34:34.176798Z",
     "start_time": "2020-03-16T16:34:34.165723Z"
    }
   },
   "source": [
    "*Notice that table has **NaN** values. They will not be automatically filled with symmetric value if not specified.*\n",
    "\n",
    "We can transform the table to fill them up symmetrically. "
   ]
  },
  {
   "cell_type": "code",
   "execution_count": 13,
   "metadata": {
    "ExecuteTime": {
     "end_time": "2020-03-27T09:17:35.940332Z",
     "start_time": "2020-03-27T09:17:35.904410Z"
    }
   },
   "outputs": [
    {
     "data": {
      "text/html": [
       "<div>\n",
       "<style scoped>\n",
       "    .dataframe tbody tr th:only-of-type {\n",
       "        vertical-align: middle;\n",
       "    }\n",
       "\n",
       "    .dataframe tbody tr th {\n",
       "        vertical-align: top;\n",
       "    }\n",
       "\n",
       "    .dataframe thead th {\n",
       "        text-align: right;\n",
       "    }\n",
       "</style>\n",
       "<table border=\"1\" class=\"dataframe\">\n",
       "  <thead>\n",
       "    <tr style=\"text-align: right;\">\n",
       "      <th></th>\n",
       "      <th>LocB</th>\n",
       "      <th>LocA</th>\n",
       "    </tr>\n",
       "  </thead>\n",
       "  <tbody>\n",
       "    <tr>\n",
       "      <th>LocB</th>\n",
       "      <td>4.709333</td>\n",
       "      <td>11.894776</td>\n",
       "    </tr>\n",
       "    <tr>\n",
       "      <th>LocA</th>\n",
       "      <td>11.894776</td>\n",
       "      <td>1.871933</td>\n",
       "    </tr>\n",
       "  </tbody>\n",
       "</table>\n",
       "</div>"
      ],
      "text/plain": [
       "           LocB       LocA\n",
       "LocB   4.709333  11.894776\n",
       "LocA  11.894776   1.871933"
      ]
     },
     "execution_count": 13,
     "metadata": {},
     "output_type": "execute_result"
    }
   ],
   "source": [
    "lat_sample[pd.isnull(lat_sample)] = lat_sample.T[pd.isnull(lat_sample)]\n",
    "lat_sample"
   ]
  },
  {
   "cell_type": "markdown",
   "metadata": {},
   "source": [
    "\n",
    "### Visualizing the data\n",
    "\n",
    "\n",
    " 1. Prepare data: \n",
    "  - Trasfer to dataframe\n",
    "  - Fill null values with symmetic \n",
    "  - Traform into list of tuples: 'from', 'to', 'value' \n",
    "  \n",
    " 2. Get 100 samples from the configuration with latencies\n",
    " \n",
    " 3. Visualize in a grid of histograms\n",
    "\n"
   ]
  },
  {
   "cell_type": "code",
   "execution_count": 14,
   "metadata": {
    "ExecuteTime": {
     "end_time": "2020-03-27T09:17:41.570964Z",
     "start_time": "2020-03-27T09:17:35.952523Z"
    }
   },
   "outputs": [
    {
     "data": {
      "image/png": "[encoded data removed]",
      "text/plain": [
       "<Figure size 576x576 with 4 Axes>"
      ]
     },
     "metadata": {},
     "output_type": "display_data"
    }
   ],
   "source": [
    "\n",
    "import matplotlib.pyplot as plt\n",
    "import seaborn as sns\n",
    "sns.set(style='darkgrid')\n",
    "\n",
    "# 1. Data prepare\n",
    "def prepare(x):\n",
    "    x = pd.DataFrame(x)\n",
    "    x[pd.isnull(x)] = x.T[pd.isnull(x)]\n",
    "    return x.stack().reset_index()\\\n",
    "                    .rename(columns={'level_0':'from', 'level_1':'to', 0: 'value'})\n",
    "                    \n",
    "# 2. Get 100 samples\n",
    "df = pd.concat(prepare(DistLocations.get()['latencies']) for _ in range(100))\n",
    "\n",
    "# 3. Visualize in a grid of histograms\n",
    "g = sns.FacetGrid(df, col='to', row='from', height=4, aspect=1)\n",
    "g = g.map(sns.distplot, 'value')\n"
   ]
  },
  {
   "cell_type": "raw",
   "metadata": {},
   "source": []
  },
  {
   "cell_type": "markdown",
   "metadata": {},
   "source": [
    "The visulations shows latency matrix for our two locations. "
   ]
  },
  {
   "cell_type": "markdown",
   "metadata": {},
   "source": [
    "----\n",
    "## Peers and Topologies \n",
    "\n",
    "Usually when desinging own system the architechtor should think about the network topology: *How are peer connected to each other*. \n",
    "\n",
    "\n",
    "Simulation can work in two modes: \n",
    "\n",
    "1. **NetworkX**. You know what topology you want to simulate, pass a network topology to the simulation.\n",
    "\n",
    "2. **Emergent**. Peers connect to each other without a pre-defined topology. A ceratin topology emerges through local rules, for example, peers connect with each other through the bootstrap peers and exchange data with each other. Typically, unstructured topologies of a peer-to-peer network follow into this category. You can read more [here](https://en.wikipedia.org/wiki/Bootstrapping_node), or  read how [Bitcoin network](https://en.bitcoin.it/wiki/Network) is formed.  \n",
    "\n",
    "\n",
    "### Networkx topology\n",
    "\n",
    "Let's first see how we can form a network topology.\n"
   ]
  },
  {
   "cell_type": "code",
   "execution_count": 16,
   "metadata": {
    "ExecuteTime": {
     "end_time": "2020-03-27T09:17:43.066290Z",
     "start_time": "2020-03-27T09:17:41.577831Z"
    },
    "recordTiming": true
   },
   "outputs": [
    {
     "data": {
      "image/png": "[encoded data removed]",
      "text/plain": [
       "<Figure size 432x288 with 1 Axes>"
      ]
     },
     "metadata": {},
     "output_type": "display_data"
    }
   ],
   "source": [
    "import networkx as nx\n",
    "\n",
    "peer_num = 10\n",
    "\n",
    "# Generate a random network network topology \n",
    "G = nx.erdos_renyi_graph(10, 0.5)\n",
    "\n",
    "# Assign a peer type to the peers with a type. Type if later used to tell which services to run.\n",
    "nx.set_node_attributes(G, {k: 'basic' for k in G.nodes()}, 'type')\n",
    "\n",
    "sns.set(style='dark')\n",
    "nx.draw_networkx(G)\n"
   ]
  },
  {
   "cell_type": "markdown",
   "metadata": {},
   "source": [
    "NetworkX is a library with a rich semantics to work with graphs. You can read more [here](https://networkx.github.io/documentation/stable/reference/generators.html).  \n",
    "\n",
    "You can choose any graph, generate them and put `type` as node attributes. `type` is a name for the peer type. We explain later how it will be used in a simulation.  \n",
    "\n",
    "\n",
    "\n",
    "### Emergent topology\n",
    "\n",
    "What if topology is not known?\n",
    "\n",
    "In this case we can model the peer discovery mechanism through *bootstrapping* peers. General bootstrap process is following: \n",
    "1. Bootstrap nodes are first created and introduced to the network. The goal of bootstrap nodes is to maintain list of peers and connect them with each other upon request. Bootstrap nodes are usually known in advance, for example, hardcoded in the supplied code. \n",
    "2. The bootstrap procedure is as follows: a) new peer joins the network, b) peer sends a `Hello` message to one of bootstrap nodes, c) a bootstrap node responds to the peer with a random sample of known online peers. \n",
    "3. The peer connect with other peers from the given sample list.\n",
    "\n",
    "\n",
    "To run default bootstrap you should pass as a parameter `topology` a dictionary with type `peer_id` -> {`type`: type_name}\n",
    "This is all abstracted in simulation, but you can specify your own bootstrap logic later. \n",
    "\n",
    "\n",
    "### Explain more\n",
    "\n",
    "Discovery "
   ]
  },
  {
   "cell_type": "markdown",
   "metadata": {},
   "source": [
    "-------\n",
    "## Peer types and services\n",
    "\n",
    "Finally, our simulation needs messages and service to process these messages. In `p2psimpy` we model it through Manager Classes and `PeerType`.\n",
    "\n",
    "Below we give an example of a simple map with one type of the peer: `basic`: \n",
    "\n",
    "- Peer is described with a `PeerType(PeerConfig, services)`. \n",
    "    - `PeerConfig` describes a physical capacities of the node: bandwidth for the messages that go through (upload and download) and location (one the specified before)\n",
    "    - `services` is a list of service that peer should run. There some standard services that you can use in your simulation. But you will also implement your own later!\n",
    "- Minimally peer should have at least a connection service to connect to the network and respond to the introduction messages. There are standard connection services available for you: \n",
    "  - `BaseConnectionManager`: a simple connection service that can connect, ping other peers and disconnect unresponsive peers. This is a recommended service for an **Networkx** topology approach.  \n",
    "  - `P2PConnectionManager`: an extended BaseConnectionManger that additionally keeps the number of connections between specified `min_peers` and `max_peers`. If the number of local connections is lower than `min_peers` service will actievly pool and ask other peers for new connection. If the number of local connections is higher than `max_peers` service will refuse all new connection and disconnect the slowest peers. This is a recommended service for an **Emergent** topology approach. \n",
    "\n",
    "Let's see how it looks in code:\n"
   ]
  },
  {
   "cell_type": "code",
   "execution_count": 18,
   "metadata": {
    "ExecuteTime": {
     "end_time": "2020-03-27T09:17:43.208204Z",
     "start_time": "2020-03-27T09:17:43.085495Z"
    }
   },
   "outputs": [],
   "source": [
    "from p2psimpy.config import *\n",
    "from p2psimpy.consts import *\n",
    "    \n",
    "class PeerConfig(Config):\n",
    "    # Location of the peer - random location from the locations specified earlier \n",
    "    location = Dist('sample', DistLocations.locations)\n",
    "    # Bandwidth is normally distributed with average of 50 and var 10 Mbit\n",
    "    bandwidth_ul = Dist( 'norm', (50*MBit, 10*MBit))\n",
    "    bandwidth_dl = Dist( 'norm', (50*MBit, 10*MBit))\n",
    "\n",
    "# Let's add ConnectionManager - that will periodically ping neighbours and check if they are online.\n",
    "# We use BaseConnectionManager - that will periodically ping peer and disconnect unresponsive peers.\n",
    "from p2psimpy.services.connection_manager import BaseConnectionManager\n",
    "\n",
    "services = (BaseConnectionManager,)\n",
    "# We have on peer role: basic\n",
    "peer_types = {'basic': PeerType(PeerConfig, services)}"
   ]
  },
  {
   "cell_type": "markdown",
   "metadata": {},
   "source": [
    "How to use these configuration. Configs are used to get value. \n",
    "They work as a generator and attribute descriptors.  "
   ]
  },
  {
   "cell_type": "markdown",
   "metadata": {},
   "source": [
    "----"
   ]
  },
  {
   "cell_type": "markdown",
   "metadata": {},
   "source": [
    "# Putting all together\n",
    "\n",
    "\n",
    "Let's combine all you learned so far to run a simple simulation:\n",
    "\n",
    "1. Define locations and simulation world parameters.\n",
    "2. Define topology and number of peers with their types.  \n",
    "3. Define what each peer type is with a `PeerConfig` and what it does with services. \n",
    "\n",
    "\n",
    "After we defined all this we can create a simulation object and run it with `.run(time)`.\n",
    "\n",
    "Simulation has it's internal clock and scheduler for all events. The parameter `time` is a time until which the simulation is run. \n",
    "\n",
    "\n",
    "***All the time is milliseconds**!\n",
    "\n",
    "\n",
    "\n"
   ]
  },
  {
   "cell_type": "markdown",
   "metadata": {
    "ExecuteTime": {
     "end_time": "2020-03-11T09:50:33.374122Z",
     "start_time": "2020-03-11T09:50:33.347834Z"
    }
   },
   "source": [
    "## Random given topology \n",
    "\n",
    "1. Given network with peer types and ids \n",
    "2. No network given - emergent P2P topology through bootstrap peers. "
   ]
  },
  {
   "cell_type": "code",
   "execution_count": 22,
   "metadata": {
    "ExecuteTime": {
     "end_time": "2020-03-27T09:17:43.889018Z",
     "start_time": "2020-03-27T09:17:43.214432Z"
    }
   },
   "outputs": [
    {
     "data": {
      "image/png": "[encoded data removed]",
      "text/plain": [
       "<Figure size 432x288 with 1 Axes>"
      ]
     },
     "metadata": {},
     "output_type": "display_data"
    }
   ],
   "source": [
    "from p2psimpy.config import *\n",
    "from p2psimpy.consts import *\n",
    "import networkx as nx\n",
    "\n",
    "class Locations(Config):\n",
    "    locations = ['LocA', 'LocB']\n",
    "    latencies = {\n",
    "        'LocB': {'LocB': Dist('gamma', (1, 1, 1))},\n",
    "        'LocA': {'LocB': Dist('norm', (12, 2)), 'LocA': Dist('norm', (2, 0.5))},\n",
    "    } \n",
    "\n",
    "# Number of nodes\n",
    "N = 10\n",
    "    \n",
    "# Generate network topology \n",
    "G = nx.erdos_renyi_graph(N, 0.5)\n",
    "# Assign a peer type to the peers \n",
    "nx.set_node_attributes(G, {k: 'basic' for k in G.nodes()}, 'type')\n",
    "\n",
    "class PeerConfig(Config):\n",
    "    location = Dist('sample', Locations.locations)\n",
    "    bandwidth_ul = Dist( 'norm', (50*MBit, 10*MBit))\n",
    "    bandwidth_dl = Dist( 'norm', (50*MBit, 10*MBit))\n",
    "\n",
    "# Let's add ConnectionManager - that will periodically ping neighbours and check if they are online \n",
    "from p2psimpy.services.connection_manager import BaseConnectionManager\n",
    "# For each service you can define own configuration, or use default values.   \n",
    "# Lets use base connection manager - that will periodically ping peer and disconnect unresponsive peers.\n",
    "\n",
    "services = (BaseConnectionManager,)\n",
    "peer_types = {'basic': PeerType(PeerConfig, services)}\n",
    "\n",
    "# Display the topology \n",
    "nx.draw_networkx(G)"
   ]
  },
  {
   "cell_type": "code",
   "execution_count": 23,
   "metadata": {
    "ExecuteTime": {
     "end_time": "2020-03-27T09:17:44.329539Z",
     "start_time": "2020-03-27T09:17:43.895337Z"
    }
   },
   "outputs": [],
   "source": [
    "from p2psimpy.simulation import BaseSimulation\n",
    "\n",
    "# Create BaseSimulation with enabled logger and save in the logs directory. \n",
    "sim = BaseSimulation(Locations, G, peer_types, enable_logger=True, logger_dir='logs')\n",
    "\n",
    "# Let's run the simulation for 5 seconds\n",
    "sim.run(5_000)"
   ]
  },
  {
   "cell_type": "markdown",
   "metadata": {
    "ExecuteTime": {
     "end_time": "2020-03-17T12:40:15.632268Z",
     "start_time": "2020-03-17T12:40:15.613568Z"
    }
   },
   "source": [
    "----------------------------\n",
    "\n",
    "What's next? There is no output.\n",
    "\n",
    "We run the simulator with logger enabled to see the all the messages exchanged in the network. \n",
    "\n",
    "The output is written to the logs in `\\logs` directory. Let's see what is the output. \n",
    "Each peer writes own log with events happening like received message, connecting to a peer etc. \n",
    "\n",
    "For example, here is the log of peer 1:"
   ]
  },
  {
   "cell_type": "code",
   "execution_count": 24,
   "metadata": {
    "ExecuteTime": {
     "end_time": "2020-03-27T09:17:44.413024Z",
     "start_time": "2020-03-27T09:17:44.345639Z"
    }
   },
   "outputs": [
    {
     "name": "stdout",
     "output_type": "stream",
     "text": [
      "Peer_1:basic INFO 0.7723595936792576: Connecting to Peer_2:basic\n",
      "Peer_1:basic INFO 0.9363359348954996: Received message <Hello:> from Peer_2:basic\n",
      "Peer_1:basic INFO 1.5706911106510957: Received message <Hello:> from Peer_2:basic\n",
      "Peer_1:basic INFO 4.103608846885771: Received message <Hello:> from Peer_7:basic\n",
      "Peer_1:basic INFO 4.103608846885771: Connecting to Peer_7:basic\n",
      "Peer_1:basic INFO 4.103608846885771: Sending message <Hello:> to Peer_7:basic\n",
      "Peer_1:basic INFO 4.93753036716547: Connecting to Peer_2:basic\n",
      "Peer_1:basic INFO 5.964424376096276: Received message <Hello:> from Peer_2:basic\n",
      "Peer_1:basic INFO 11.145142614852492: Received message <Hello:> from Peer_2:basic\n",
      "Peer_1:basic INFO 1000: Sending message <Ping:> to Peer_2:basic\n",
      "Peer_1:basic INFO 1000: Sending message <Ping:> to Peer_7:basic\n",
      "Peer_1:basic INFO 1000: Sending message <Ping:> to Peer_2:basic\n",
      "Peer_1:basic INFO 1000.6095521451093: Received message <Ping:> from Peer_2:basic\n",
      "Peer_1:basic INFO 1000.6095521451093: Sending message <Pong:> to Peer_2:basic\n",
      "Peer_1:basic INFO 1001.4184860367574: Received message <Pong:> from Peer_2:basic\n",
      "Peer_1:basic INFO 1004.8729813209992: Received message <Ping:> from Peer_7:basic\n",
      "Peer_1:basic INFO 1004.8729813209992: Sending message <Pong:> to Peer_7:basic\n",
      "Peer_1:basic INFO 1006.9370064606334: Received message <Ping:> from Peer_2:basic\n",
      "Peer_1:basic INFO 1006.9370064606334: Sending message <Pong:> to Peer_2:basic\n",
      "Peer_1:basic INFO 1010.9896986129671: Received message <Pong:> from Peer_2:basic\n",
      "Peer_1:basic INFO 1011.9536539324467: Received message <Pong:> from Peer_7:basic\n",
      "Peer_1:basic INFO 2000: Sending message <Ping:> to Peer_2:basic\n",
      "Peer_1:basic INFO 2000: Sending message <Ping:> to Peer_7:basic\n",
      "Peer_1:basic INFO 2000: Sending message <Ping:> to Peer_2:basic\n",
      "Peer_1:basic INFO 2001.6360176733856: Received message <Ping:> from Peer_2:basic\n",
      "Peer_1:basic INFO 2001.6360176733856: Sending message <Pong:> to Peer_2:basic\n",
      "Peer_1:basic INFO 2002.2805093010547: Received message <Pong:> from Peer_2:basic\n",
      "Peer_1:basic INFO 2005.473668665437: Received message <Ping:> from Peer_2:basic\n",
      "Peer_1:basic INFO 2005.473668665437: Sending message <Pong:> to Peer_2:basic\n",
      "Peer_1:basic INFO 2006.350994957755: Received message <Ping:> from Peer_7:basic\n",
      "Peer_1:basic INFO 2006.350994957755: Sending message <Pong:> to Peer_7:basic\n",
      "Peer_1:basic INFO 2012.926125120869: Received message <Pong:> from Peer_7:basic\n",
      "Peer_1:basic INFO 2013.9423030535993: Received message <Pong:> from Peer_2:basic\n",
      "Peer_1:basic INFO 3000: Sending message <Ping:> to Peer_2:basic\n",
      "Peer_1:basic INFO 3000: Sending message <Ping:> to Peer_7:basic\n",
      "Peer_1:basic INFO 3000: Sending message <Ping:> to Peer_2:basic\n",
      "Peer_1:basic INFO 3001.0786153088975: Received message <Ping:> from Peer_2:basic\n",
      "Peer_1:basic INFO 3001.0786153088975: Sending message <Pong:> to Peer_2:basic\n",
      "Peer_1:basic INFO 3002.4446159543954: Received message <Pong:> from Peer_2:basic\n",
      "Peer_1:basic INFO 3004.23859148173: Received message <Ping:> from Peer_7:basic\n",
      "Peer_1:basic INFO 3004.23859148173: Sending message <Pong:> to Peer_7:basic\n",
      "Peer_1:basic INFO 3007.025595665265: Received message <Ping:> from Peer_2:basic\n",
      "Peer_1:basic INFO 3007.025595665265: Sending message <Pong:> to Peer_2:basic\n",
      "Peer_1:basic INFO 3011.797239951232: Received message <Pong:> from Peer_7:basic\n",
      "Peer_1:basic INFO 3012.135455014053: Received message <Pong:> from Peer_2:basic\n",
      "Peer_1:basic INFO 4000: Sending message <Ping:> to Peer_2:basic\n",
      "Peer_1:basic INFO 4000: Sending message <Ping:> to Peer_7:basic\n",
      "Peer_1:basic INFO 4000: Sending message <Ping:> to Peer_2:basic\n",
      "Peer_1:basic INFO 4000.624901030047: Received message <Ping:> from Peer_2:basic\n",
      "Peer_1:basic INFO 4000.624901030047: Sending message <Pong:> to Peer_2:basic\n",
      "Peer_1:basic INFO 4002.065172543469: Received message <Pong:> from Peer_2:basic\n",
      "Peer_1:basic INFO 4006.532422969607: Received message <Ping:> from Peer_7:basic\n",
      "Peer_1:basic INFO 4006.532422969607: Sending message <Pong:> to Peer_7:basic\n",
      "Peer_1:basic INFO 4006.8595289031705: Received message <Ping:> from Peer_2:basic\n",
      "Peer_1:basic INFO 4006.8595289031705: Sending message <Pong:> to Peer_2:basic\n",
      "Peer_1:basic INFO 4012.001759171619: Received message <Pong:> from Peer_2:basic\n",
      "Peer_1:basic INFO 4013.1730706514654: Received message <Pong:> from Peer_7:basic\n",
      "\n"
     ]
    }
   ],
   "source": [
    "with open('logs/Peer_1:basic.log') as s:\n",
    "    print(s.read())"
   ]
  },
  {
   "cell_type": "markdown",
   "metadata": {},
   "source": [
    "## Emergent topology\n",
    "\n",
    "Now let's try an emergent topology, we will use the same configuration, but use bootstrap peer for discovery and building a network. For the connection manager we will use `P2PConnectionManager`.  \n"
   ]
  },
  {
   "cell_type": "code",
   "execution_count": 25,
   "metadata": {
    "ExecuteTime": {
     "end_time": "2020-03-27T09:17:44.430653Z",
     "start_time": "2020-03-27T09:17:44.415134Z"
    }
   },
   "outputs": [],
   "source": [
    "from p2psimpy.services.connection_manager import P2PConnectionManager\n",
    "\n",
    "num_peers = 10\n",
    "\n",
    "topology_specs = {i:{'type': 'basic'} for i in range(1, num_peers+1)}\n",
    "\n",
    "class ConnectionConfig(Config):\n",
    "    min_peers = 4\n",
    "    max_peers = 8\n",
    "\n",
    "peer_types = {'basic': PeerType(PeerConfig, {P2PConnectionManager: ConnectionConfig})}\n"
   ]
  },
  {
   "cell_type": "code",
   "execution_count": 26,
   "metadata": {
    "ExecuteTime": {
     "end_time": "2020-03-27T09:17:44.729428Z",
     "start_time": "2020-03-27T09:17:44.442513Z"
    }
   },
   "outputs": [],
   "source": [
    "sim = BaseSimulation(Locations, topology_specs, peer_types, logger_dir='logs2')\n",
    "\n",
    "# Let's run the simulation for 5 seconds\n",
    "sim.run(5_000)"
   ]
  },
  {
   "cell_type": "markdown",
   "metadata": {},
   "source": [
    "#### The peers form themselves a random topology"
   ]
  },
  {
   "cell_type": "code",
   "execution_count": 27,
   "metadata": {
    "ExecuteTime": {
     "end_time": "2020-03-27T09:17:46.596898Z",
     "start_time": "2020-03-27T09:17:44.765123Z"
    }
   },
   "outputs": [
    {
     "data": {
      "image/png": "[encoded data removed]",
      "text/plain": [
       "<Figure size 432x288 with 1 Axes>"
      ]
     },
     "metadata": {},
     "output_type": "display_data"
    }
   ],
   "source": [
    "G1 = sim.get_graph()\n",
    "nx.draw_networkx(G1)"
   ]
  },
  {
   "cell_type": "code",
   "execution_count": 28,
   "metadata": {
    "ExecuteTime": {
     "end_time": "2020-03-27T09:17:46.609528Z",
     "start_time": "2020-03-27T09:17:46.600756Z"
    }
   },
   "outputs": [
    {
     "name": "stdout",
     "output_type": "stream",
     "text": [
      "Peer_1:basic WARNING 0: Not enough peers, fetching more (0, 4)\n",
      "Peer_1:basic INFO 0.565874236628629: Connecting to Peer_11:bootstrap\n",
      "Peer_1:basic INFO 1.461062035334456: Received message <Hello:> from Peer_11:bootstrap\n",
      "Peer_1:basic INFO 2.7488533401304944: Received message <RequestPeers:> from Peer_11:bootstrap\n",
      "Peer_1:basic INFO 2.7488533401304944: Sending message <PeerList> to Peer_11:bootstrap\n",
      "Peer_1:basic WARNING 500: Not enough peers, fetching more (1, 4)\n",
      "Peer_1:basic INFO 500: Sending message <RequestPeers:> to Peer_11:bootstrap\n",
      "Peer_1:basic INFO 501.6394384211931: Received message <PeerList> from Peer_11:bootstrap\n",
      "Peer_1:basic WARNING 1000: Not enough peers, fetching more (1, 4)\n",
      "Peer_1:basic INFO 1000: Sending message <RequestPeers:> to Peer_11:bootstrap\n",
      "Peer_1:basic INFO 1000.6862906340558: Received message <RequestPeers:> from Peer_11:bootstrap\n",
      "Peer_1:basic INFO 1000.6862906340558: Sending message <PeerList> to Peer_11:bootstrap\n",
      "Peer_1:basic INFO 1000.7676327188423: Connecting to Peer_10:basic\n",
      "Peer_1:basic INFO 1001.2247900774828: Received message <PeerList> from Peer_11:bootstrap\n",
      "Peer_1:basic INFO 1001.2910166651435: Received message <RequestPeers:> from Peer_10:basic\n",
      "Peer_1:basic INFO 1001.2910166651435: Sending message <PeerList> to Peer_10:basic\n",
      "Peer_1:basic INFO 1001.4587393766435: Received message <Hello:> from Peer_10:basic\n",
      "Peer_1:basic WARNING 1500: Not enough peers, fetching more (2, 4)\n",
      "Peer_1:basic INFO 1500: Sending message <RequestPeers:> to Peer_10:basic\n",
      "Peer_1:basic INFO 1500: Sending message <RequestPeers:> to Peer_11:bootstrap\n",
      "Peer_1:basic INFO 1500.6338386398154: Received message <RequestPeers:> from Peer_11:bootstrap\n",
      "Peer_1:basic INFO 1500.6338386398154: Sending message <PeerList> to Peer_11:bootstrap\n",
      "Peer_1:basic INFO 1501.5275798773723: Received message <PeerList> from Peer_10:basic\n",
      "Peer_1:basic INFO 1503.0865217977835: Received message <PeerList> from Peer_11:bootstrap\n",
      "Peer_1:basic INFO 1504.4787582663766: Connecting to Peer_3:basic\n",
      "Peer_1:basic INFO 1510.3681395780764: Received message <Hello:> from Peer_3:basic\n",
      "Peer_1:basic INFO 1510.7210180357586: Received message <RequestPeers:> from Peer_3:basic\n",
      "Peer_1:basic INFO 1510.7210180357586: Sending message <PeerList> to Peer_3:basic\n",
      "Peer_1:basic WARNING 2000: Not enough peers, fetching more (3, 4)\n",
      "Peer_1:basic INFO 2000: Sending message <RequestPeers:> to Peer_11:bootstrap\n",
      "Peer_1:basic INFO 2000: Sending message <RequestPeers:> to Peer_3:basic\n",
      "Peer_1:basic INFO 2000: Sending message <RequestPeers:> to Peer_10:basic\n",
      "Peer_1:basic INFO 2001.7176243377517: Received message <PeerList> from Peer_10:basic\n",
      "Peer_1:basic INFO 2001.8356629704547: Received message <PeerList> from Peer_11:bootstrap\n",
      "Peer_1:basic INFO 2011.1441863155353: Received message <PeerList> from Peer_3:basic\n",
      "Peer_1:basic WARNING 2500: Not enough peers, fetching more (3, 4)\n",
      "Peer_1:basic INFO 2501.564816561729: Received message <RequestPeers:> from Peer_11:bootstrap\n",
      "Peer_1:basic INFO 2501.564816561729: Sending message <PeerList> to Peer_11:bootstrap\n",
      "Peer_1:basic INFO 2502.3749494357817: Connecting to Peer_4:basic\n",
      "Peer_1:basic INFO 2502.881713539739: Received message <RequestPeers:> from Peer_4:basic\n",
      "Peer_1:basic INFO 2502.881713539739: Sending message <PeerList> to Peer_4:basic\n",
      "Peer_1:basic INFO 2503.6632979563806: Received message <Hello:> from Peer_4:basic\n",
      "Peer_1:basic INFO 3000: Sending message <Ping:> to Peer_10:basic\n",
      "Peer_1:basic INFO 3000: Sending message <Ping:> to Peer_3:basic\n",
      "Peer_1:basic INFO 3002.0074891026334: Received message <Ping:> from Peer_10:basic\n",
      "Peer_1:basic INFO 3002.0074891026334: Sending message <Pong:> to Peer_10:basic\n",
      "Peer_1:basic INFO 3002.3550732999443: Received message <Pong:> from Peer_10:basic\n",
      "Peer_1:basic INFO 3008.100751742489: Received message <Ping:> from Peer_3:basic\n",
      "Peer_1:basic INFO 3008.100751742489: Sending message <Pong:> to Peer_3:basic\n",
      "Peer_1:basic INFO 3011.1952399840106: Received message <Pong:> from Peer_3:basic\n",
      "Peer_1:basic INFO 3500: Sending message <Ping:> to Peer_11:bootstrap\n",
      "Peer_1:basic INFO 3500: Sending message <Ping:> to Peer_4:basic\n",
      "Peer_1:basic INFO 3500.6144046897357: Received message <Ping:> from Peer_4:basic\n",
      "Peer_1:basic INFO 3500.6144046897357: Sending message <Pong:> to Peer_4:basic\n",
      "Peer_1:basic INFO 3500.898728075809: Received message <Ping:> from Peer_11:bootstrap\n",
      "Peer_1:basic INFO 3500.898728075809: Sending message <Pong:> to Peer_11:bootstrap\n",
      "Peer_1:basic INFO 3501.8862952915724: Received message <Pong:> from Peer_11:bootstrap\n",
      "Peer_1:basic INFO 3502.642819637631: Received message <Pong:> from Peer_4:basic\n",
      "Peer_1:basic INFO 4000: Sending message <Ping:> to Peer_10:basic\n",
      "Peer_1:basic INFO 4000: Sending message <Ping:> to Peer_3:basic\n",
      "Peer_1:basic INFO 4000.5014640554546: Received message <Ping:> from Peer_10:basic\n",
      "Peer_1:basic INFO 4000.5014640554546: Sending message <Pong:> to Peer_10:basic\n",
      "Peer_1:basic INFO 4002.89240973757: Received message <Pong:> from Peer_10:basic\n",
      "Peer_1:basic INFO 4004.9886392191297: Received message <Ping:> from Peer_3:basic\n",
      "Peer_1:basic INFO 4004.9886392191297: Sending message <Pong:> to Peer_3:basic\n",
      "Peer_1:basic INFO 4009.769960937913: Received message <Pong:> from Peer_3:basic\n",
      "Peer_1:basic INFO 4500: Sending message <Ping:> to Peer_11:bootstrap\n",
      "Peer_1:basic INFO 4500: Sending message <Ping:> to Peer_4:basic\n",
      "Peer_1:basic INFO 4500.578303769383: Received message <Ping:> from Peer_11:bootstrap\n",
      "Peer_1:basic INFO 4500.578303769383: Sending message <Pong:> to Peer_11:bootstrap\n",
      "Peer_1:basic INFO 4500.7755558455265: Received message <Ping:> from Peer_4:basic\n",
      "Peer_1:basic INFO 4500.7755558455265: Sending message <Pong:> to Peer_4:basic\n",
      "Peer_1:basic INFO 4501.560037912602: Received message <Pong:> from Peer_4:basic\n",
      "Peer_1:basic INFO 4503.067862093427: Received message <Pong:> from Peer_11:bootstrap\n",
      "\n"
     ]
    }
   ],
   "source": [
    "with open('logs2/Peer_1:basic.log') as s:\n",
    "    print(s.read())"
   ]
  },
  {
   "cell_type": "markdown",
   "metadata": {},
   "source": [
    "------------------\n",
    "\n",
    "Now you get how to work a simulation, in the next notebook we will take a look into services and implement our own.  \n"
   ]
  },
  {
   "cell_type": "markdown",
   "metadata": {},
   "source": [
    "## Your experiments here \n",
    "\n",
    "\n",
    "1. Change the latency between the locations and look at the logs.  \n",
    "2. Change the rules for the discovery\n",
    "\n"
   ]
  },
  {
   "cell_type": "code",
   "execution_count": null,
   "metadata": {},
   "outputs": [],
   "source": []
  }
 ],
 "metadata": {
  "hide_input": false,
  "kernelspec": {
   "display_name": "Python 3",
   "language": "python",
   "name": "python3"
  },
  "language_info": {
   "codemirror_mode": {
    "name": "ipython",
    "version": 3
   },
   "file_extension": ".py",
   "mimetype": "text/x-python",
   "name": "python",
   "nbconvert_exporter": "python",
   "pygments_lexer": "ipython3",
   "version": "3.8.2"
  },
  "pycharm": {
   "stem_cell": {
    "cell_type": "raw",
    "metadata": {
     "collapsed": false
    },
    "source": []
   }
  },
  "toc": {
   "base_numbering": 1,
   "nav_menu": {},
   "number_sections": true,
   "sideBar": true,
   "skip_h1_title": false,
   "title_cell": "Table of Contents",
   "title_sidebar": "Contents",
   "toc_cell": false,
   "toc_position": {
    "height": "524px",
    "left": "441px",
    "top": "355px",
    "width": "256px"
   },
   "toc_section_display": true,
   "toc_window_display": false
  },
  "varInspector": {
   "cols": {
    "lenName": 16,
    "lenType": 16,
    "lenVar": 40
   },
   "kernels_config": {
    "python": {
     "delete_cmd_postfix": "",
     "delete_cmd_prefix": "del ",
     "library": "var_list.py",
     "varRefreshCmd": "print(var_dic_list())"
    },
    "r": {
     "delete_cmd_postfix": ") ",
     "delete_cmd_prefix": "rm(",
     "library": "var_list.r",
     "varRefreshCmd": "cat(var_dic_list()) "
    }
   },
   "types_to_exclude": [
    "module",
    "function",
    "builtin_function_or_method",
    "instance",
    "_Feature"
   ],
   "window_display": false
  }
 },
 "nbformat": 4,
 "nbformat_minor": 4
}
