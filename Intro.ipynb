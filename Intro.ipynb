{
 "cells": [
  {
   "cell_type": "code",
   "execution_count": 1,
   "metadata": {},
   "outputs": [],
   "source": [
    "%matplotlib inline"
   ]
  },
  {
   "cell_type": "markdown",
   "metadata": {},
   "source": [
    "# Digital services \n",
    "\n",
    "\n",
    "For many decades researchers and industry tried to build a secure and private digital services. For example, a protocl that allow to interact with a bank in anonymous way. Such solution makes sense when:\n",
    "- Individuals rely on the regulatory enviroment \n",
    "- When there is a threat when illegal action is observed \n",
    "\n",
    "How can you build such service over the internet? What if your service is in another country? In a mission-critical/Byzantine enviorment? \n",
    "\n",
    "## Decentralized enviorments \n",
    "\n",
    "The key challenge is to co-ordinate number of individuals even in the absence of a strong regulatory enviorment. \n",
    "Beacuse we cannot rely on any particular individual that makes such system highly robust and accessable to anyone having a connection.  \n",
    "\n",
    "However building such services over decentrlized evnoirments introudces some number of challenges that are not present in central services:\n",
    "\n",
    "1. All participants are usually not fully connected. All communication is through a \"communication graph\". How to build a robust communication graph? \n",
    "2. Processes are allowed to be offline. Opt-out and rejoin later to the system \n",
    "3. There are financial incentives to behave in many non-trivial ways. *Example*\n",
    "\n",
    "\n",
    "To work in such envoirment one must first assume the maximum number of malicious participants in the network. \n",
    "$f$\n",
    "\n",
    "\n",
    "## Bitcoin model \n",
    "\n",
    "Achieves a distributed consensus among individuals despite challenges. \n",
    "The consensus is split in rounds. At each round peers collect transactions and append a list of *non-confirmed* transactions to the list of all transactions. Such list of transaction is usually called *block*. \n",
    "\n",
    "Each transaction goes through a validation to get into the *block*. For example, for a payment system, the validation protocol ensures that balance of the payer is not negative. \n",
    "\n",
    "*Ledger* - state at time $t$. To calculate state peer goes through all ledgers up to the current time and applies transactions. \n",
    "\n",
    "\n",
    "**Example**\n",
    "Alice at round i wants to pay to Bob. Alice signs a message $(pay, Alice, Bob, 1, id)_{Bob}$\n",
    "Alice gossips to the neighbours the transaction. So that this transaction is spread through the network. \n",
    "At the end to the round i a random leader is elected - say Charlie.\n",
    "\n",
    "If Charlie is honest, he will include Alice's transaction to the newest block and links the block to the latest known block, thus forming a chain and a new ledger $L_i = B_i -> B_{i-1} -> ... -> L_0$  \n",
    "\n",
    "That indicates that a random peer in the network has received and verified the transaction. Is that enough? \n",
    "\n",
    "\n",
    "Security of the Bitcoin comes from the following: \n",
    " - Charlie cant make Bob or Alice pay, because each transaction requires a signature to get accepted. \n",
    " - In worst case Charlie can ignore the transaction. If we assume that $f < N/2$, Alice will progress at least in half of the cases. \n",
    " \n",
    "**Assumptions**:\n",
    "- Cryptography assumption \n",
    "- Unbiased random leader selection that is fair \n",
    "  \n",
    "\n",
    "\n",
    "\n",
    "\n",
    "\n",
    "### Byzantine \n",
    "\n",
    "\n",
    "### Internet deployment \n",
    "\n",
    "\n",
    "### Decentralization \n",
    "\n",
    "\n",
    "\n",
    "\n"
   ]
  },
  {
   "cell_type": "code",
   "execution_count": null,
   "metadata": {},
   "outputs": [],
   "source": []
  },
  {
   "cell_type": "code",
   "execution_count": null,
   "metadata": {},
   "outputs": [],
   "source": []
  },
  {
   "cell_type": "code",
   "execution_count": null,
   "metadata": {},
   "outputs": [],
   "source": []
  }
 ],
 "metadata": {
  "kernelspec": {
   "display_name": "Python 3",
   "language": "python",
   "name": "python3"
  },
  "language_info": {
   "codemirror_mode": {
    "name": "ipython",
    "version": 3
   },
   "file_extension": ".py",
   "mimetype": "text/x-python",
   "name": "python",
   "nbconvert_exporter": "python",
   "pygments_lexer": "ipython3",
   "version": "3.7.5"
  }
 },
 "nbformat": 4,
 "nbformat_minor": 2
}
